{
 "cells": [
  {
   "cell_type": "markdown",
   "metadata": {
    "application/vnd.databricks.v1+cell": {
     "cellMetadata": {},
     "inputWidgets": {},
     "nuid": "6e595a22-7219-46ec-b4b2-474e4acba5d0",
     "showTitle": false,
     "title": ""
    }
   },
   "source": [
    "1. Load the source data"
   ]
  },
  {
   "cell_type": "code",
   "execution_count": 0,
   "metadata": {
    "application/vnd.databricks.v1+cell": {
     "cellMetadata": {
      "byteLimit": 2048000,
      "rowLimit": 10000
     },
     "inputWidgets": {},
     "nuid": "c61b6bef-7bd6-4f6d-aa99-122894868a69",
     "showTitle": false,
     "title": ""
    }
   },
   "outputs": [
    {
     "output_type": "display_data",
     "data": {
      "text/html": [
       "<style scoped>\n  .table-result-container {\n    max-height: 300px;\n    overflow: auto;\n  }\n  table, th, td {\n    border: 1px solid black;\n    border-collapse: collapse;\n  }\n  th, td {\n    padding: 5px;\n  }\n  th {\n    text-align: left;\n  }\n</style><div class='table-result-container'><table class='table-result'><thead style='background-color: white'><tr><th>path</th><th>name</th><th>size</th><th>modificationTime</th></tr></thead><tbody><tr><td>dbfs:/databricks-datasets/songs/README.md</td><td>README.md</td><td>1719</td><td>1455505885000</td></tr><tr><td>dbfs:/databricks-datasets/songs/data-001/</td><td>data-001/</td><td>0</td><td>1679415479256</td></tr><tr><td>dbfs:/databricks-datasets/songs/data-002/</td><td>data-002/</td><td>0</td><td>1679415479256</td></tr></tbody></table></div>"
      ]
     },
     "metadata": {
      "application/vnd.databricks.v1+output": {
       "addedWidgets": {},
       "aggData": [],
       "aggError": "",
       "aggOverflow": false,
       "aggSchema": [],
       "aggSeriesLimitReached": false,
       "aggType": "",
       "arguments": {},
       "columnCustomDisplayInfos": {},
       "data": [
        [
         "dbfs:/databricks-datasets/songs/README.md",
         "README.md",
         1719,
         1455505885000
        ],
        [
         "dbfs:/databricks-datasets/songs/data-001/",
         "data-001/",
         0,
         1679415479256
        ],
        [
         "dbfs:/databricks-datasets/songs/data-002/",
         "data-002/",
         0,
         1679415479256
        ]
       ],
       "datasetInfos": [],
       "dbfsResultPath": null,
       "isJsonSchema": true,
       "metadata": {},
       "overflow": false,
       "plotOptions": {
        "customPlotOptions": {},
        "displayType": "table",
        "pivotAggregation": null,
        "pivotColumns": null,
        "xColumns": null,
        "yColumns": null
       },
       "removedWidgets": [],
       "schema": [
        {
         "metadata": "{}",
         "name": "path",
         "type": "\"string\""
        },
        {
         "metadata": "{}",
         "name": "name",
         "type": "\"string\""
        },
        {
         "metadata": "{}",
         "name": "size",
         "type": "\"long\""
        },
        {
         "metadata": "{}",
         "name": "modificationTime",
         "type": "\"long\""
        }
       ],
       "type": "table"
      }
     },
     "output_type": "display_data"
    }
   ],
   "source": [
    "# view the contents of the directory\n",
    "display(dbutils.fs.ls(\"/databricks-datasets/songs/\"))"
   ]
  },
  {
   "cell_type": "code",
   "execution_count": 0,
   "metadata": {
    "application/vnd.databricks.v1+cell": {
     "cellMetadata": {
      "byteLimit": 2048000,
      "rowLimit": 10000
     },
     "inputWidgets": {},
     "nuid": "07d33222-0ba1-4353-9d10-74572acc7b93",
     "showTitle": false,
     "title": ""
    }
   },
   "outputs": [
    {
     "output_type": "stream",
     "name": "stdout",
     "output_type": "stream",
     "text": [
      "Sample of Million Song Dataset\n===============================\n\n## Source\nThis data is a small subset of the [Million Song Dataset](http://labrosa.ee.columbia.edu/millionsong/).\nThe original data was contributed by The Echo Nest.\nPrepared by T. Bertin-Mahieux <tb2332 '@' columbia.edu>\n\n## Attribute Information\n- artist_id:string\n- artist_latitude:double\n- artist_longitude:double\n- artist_location:string\n- artist_name:string\n- duration:double\n- end_of_fade_in:double\n- key:int\n- key_confidence:double\n- loudness:double\n- release:string\n- song_hotnes:double\n- song_id:string\n- start_of_fade_out:double\n- tempo:double\n- time_signature:double\n- time_signature_confidence:double\n- title:string\n- year:double\n- partial_sequence:int\n\n## Citation\nUsing the dataset?\n\nPlease cite the following paper [pdf](http://www.columbia.edu/~tb2332/Papers/ismir11.pdf) [bib](http://labrosa.ee.columbia.edu/millionsong/sites/default/files/millionsong_ismir11_1.bib):\n\nThierry Bertin-Mahieux, Daniel P.W. Ellis, Brian Whitman, and Paul Lamere. \nThe Million Song Dataset. In Proceedings of the 12th International Society\nfor Music Information Retrieval Conference (ISMIR 2011), 2011.\n\n## Acknowledgements\nThe Million Song Dataset was created under a grant from the National Science Foundation, project IIS-0713334. The original data was contributed by The Echo Nest, as part of an NSF-sponsored GOALI collaboration. Subsequent donations from SecondHandSongs.com, musiXmatch.com, and last.fm, as well as further donations from The Echo Nest, are gratefully acknowledged.\n\nAny opinions, findings and conclusions or recommendations expressed in this material are those of the authors and do not necessarily reflect the views of the sponsors.\n"
     ]
    }
   ],
   "source": [
    "# view the content of the README\n",
    "with open(\"/dbfs/databricks-datasets/songs/README.md\") as f:\n",
    "  x = ''.join(f.readlines())\n",
    "\n",
    "print(x)"
   ]
  },
  {
   "cell_type": "code",
   "execution_count": 0,
   "metadata": {
    "application/vnd.databricks.v1+cell": {
     "cellMetadata": {
      "byteLimit": 2048000,
      "rowLimit": 10000
     },
     "inputWidgets": {},
     "nuid": "bdec0f3b-38c2-421f-adec-aaf034693255",
     "showTitle": false,
     "title": ""
    }
   },
   "outputs": [
    {
     "output_type": "display_data",
     "data": {
      "text/html": [
       "<style scoped>\n  .table-result-container {\n    max-height: 300px;\n    overflow: auto;\n  }\n  table, th, td {\n    border: 1px solid black;\n    border-collapse: collapse;\n  }\n  th, td {\n    padding: 5px;\n  }\n  th {\n    text-align: left;\n  }\n</style><div class='table-result-container'><table class='table-result'><thead style='background-color: white'><tr><th>path</th><th>name</th><th>size</th><th>modificationTime</th></tr></thead><tbody><tr><td>dbfs:/databricks-datasets/songs/data-001/header.txt</td><td>header.txt</td><td>377</td><td>1455505885000</td></tr><tr><td>dbfs:/databricks-datasets/songs/data-001/part-00000</td><td>part-00000</td><td>52837</td><td>1455505885000</td></tr><tr><td>dbfs:/databricks-datasets/songs/data-001/part-00001</td><td>part-00001</td><td>52469</td><td>1455505885000</td></tr><tr><td>dbfs:/databricks-datasets/songs/data-001/part-00002</td><td>part-00002</td><td>51778</td><td>1455505885000</td></tr><tr><td>dbfs:/databricks-datasets/songs/data-001/part-00003</td><td>part-00003</td><td>50551</td><td>1455505885000</td></tr><tr><td>dbfs:/databricks-datasets/songs/data-001/part-00004</td><td>part-00004</td><td>53449</td><td>1455505885000</td></tr><tr><td>dbfs:/databricks-datasets/songs/data-001/part-00005</td><td>part-00005</td><td>53301</td><td>1455505885000</td></tr><tr><td>dbfs:/databricks-datasets/songs/data-001/part-00006</td><td>part-00006</td><td>54184</td><td>1455505886000</td></tr><tr><td>dbfs:/databricks-datasets/songs/data-001/part-00007</td><td>part-00007</td><td>50924</td><td>1455505886000</td></tr><tr><td>dbfs:/databricks-datasets/songs/data-001/part-00008</td><td>part-00008</td><td>52533</td><td>1455505886000</td></tr><tr><td>dbfs:/databricks-datasets/songs/data-001/part-00009</td><td>part-00009</td><td>54570</td><td>1455505886000</td></tr><tr><td>dbfs:/databricks-datasets/songs/data-001/part-00010</td><td>part-00010</td><td>54338</td><td>1455505886000</td></tr><tr><td>dbfs:/databricks-datasets/songs/data-001/part-00011</td><td>part-00011</td><td>51836</td><td>1455505886000</td></tr><tr><td>dbfs:/databricks-datasets/songs/data-001/part-00012</td><td>part-00012</td><td>52297</td><td>1455505886000</td></tr><tr><td>dbfs:/databricks-datasets/songs/data-001/part-00013</td><td>part-00013</td><td>52044</td><td>1455505886000</td></tr><tr><td>dbfs:/databricks-datasets/songs/data-001/part-00014</td><td>part-00014</td><td>50704</td><td>1455505886000</td></tr><tr><td>dbfs:/databricks-datasets/songs/data-001/part-00015</td><td>part-00015</td><td>54158</td><td>1455505886000</td></tr><tr><td>dbfs:/databricks-datasets/songs/data-001/part-00016</td><td>part-00016</td><td>50080</td><td>1455505887000</td></tr><tr><td>dbfs:/databricks-datasets/songs/data-001/part-00017</td><td>part-00017</td><td>47708</td><td>1455505887000</td></tr><tr><td>dbfs:/databricks-datasets/songs/data-001/part-00018</td><td>part-00018</td><td>8858</td><td>1455505887000</td></tr><tr><td>dbfs:/databricks-datasets/songs/data-001/part-00019</td><td>part-00019</td><td>53323</td><td>1455505887000</td></tr><tr><td>dbfs:/databricks-datasets/songs/data-001/part-00020</td><td>part-00020</td><td>57877</td><td>1455505887000</td></tr><tr><td>dbfs:/databricks-datasets/songs/data-001/part-00021</td><td>part-00021</td><td>52491</td><td>1455505887000</td></tr><tr><td>dbfs:/databricks-datasets/songs/data-001/part-00022</td><td>part-00022</td><td>54791</td><td>1455505887000</td></tr><tr><td>dbfs:/databricks-datasets/songs/data-001/part-00023</td><td>part-00023</td><td>50682</td><td>1455505887000</td></tr><tr><td>dbfs:/databricks-datasets/songs/data-001/part-00024</td><td>part-00024</td><td>52863</td><td>1455505887000</td></tr><tr><td>dbfs:/databricks-datasets/songs/data-001/part-00025</td><td>part-00025</td><td>47416</td><td>1455505887000</td></tr><tr><td>dbfs:/databricks-datasets/songs/data-001/part-00026</td><td>part-00026</td><td>50130</td><td>1455505887000</td></tr><tr><td>dbfs:/databricks-datasets/songs/data-001/part-00027</td><td>part-00027</td><td>53462</td><td>1455505888000</td></tr><tr><td>dbfs:/databricks-datasets/songs/data-001/part-00028</td><td>part-00028</td><td>54179</td><td>1455505888000</td></tr><tr><td>dbfs:/databricks-datasets/songs/data-001/part-00029</td><td>part-00029</td><td>52738</td><td>1455505888000</td></tr><tr><td>dbfs:/databricks-datasets/songs/data-001/part-00030</td><td>part-00030</td><td>54159</td><td>1455505888000</td></tr><tr><td>dbfs:/databricks-datasets/songs/data-001/part-00031</td><td>part-00031</td><td>51247</td><td>1455505888000</td></tr><tr><td>dbfs:/databricks-datasets/songs/data-001/part-00032</td><td>part-00032</td><td>51610</td><td>1455505888000</td></tr><tr><td>dbfs:/databricks-datasets/songs/data-001/part-00033</td><td>part-00033</td><td>53895</td><td>1455505888000</td></tr><tr><td>dbfs:/databricks-datasets/songs/data-001/part-00034</td><td>part-00034</td><td>53125</td><td>1455505888000</td></tr><tr><td>dbfs:/databricks-datasets/songs/data-001/part-00035</td><td>part-00035</td><td>54066</td><td>1455505888000</td></tr><tr><td>dbfs:/databricks-datasets/songs/data-001/part-00036</td><td>part-00036</td><td>54265</td><td>1455505888000</td></tr><tr><td>dbfs:/databricks-datasets/songs/data-001/part-00037</td><td>part-00037</td><td>54264</td><td>1455505888000</td></tr><tr><td>dbfs:/databricks-datasets/songs/data-001/part-00038</td><td>part-00038</td><td>50540</td><td>1455505889000</td></tr><tr><td>dbfs:/databricks-datasets/songs/data-001/part-00039</td><td>part-00039</td><td>55193</td><td>1455505889000</td></tr><tr><td>dbfs:/databricks-datasets/songs/data-001/part-00040</td><td>part-00040</td><td>54537</td><td>1455505889000</td></tr><tr><td>dbfs:/databricks-datasets/songs/data-001/part-00041</td><td>part-00041</td><td>52402</td><td>1455505889000</td></tr><tr><td>dbfs:/databricks-datasets/songs/data-001/part-00042</td><td>part-00042</td><td>54673</td><td>1455505889000</td></tr><tr><td>dbfs:/databricks-datasets/songs/data-001/part-00043</td><td>part-00043</td><td>53009</td><td>1455505889000</td></tr><tr><td>dbfs:/databricks-datasets/songs/data-001/part-00044</td><td>part-00044</td><td>51789</td><td>1455505889000</td></tr><tr><td>dbfs:/databricks-datasets/songs/data-001/part-00045</td><td>part-00045</td><td>52986</td><td>1455505889000</td></tr><tr><td>dbfs:/databricks-datasets/songs/data-001/part-00046</td><td>part-00046</td><td>54442</td><td>1455505889000</td></tr><tr><td>dbfs:/databricks-datasets/songs/data-001/part-00047</td><td>part-00047</td><td>52971</td><td>1455505889000</td></tr><tr><td>dbfs:/databricks-datasets/songs/data-001/part-00048</td><td>part-00048</td><td>53331</td><td>1455505889000</td></tr><tr><td>dbfs:/databricks-datasets/songs/data-001/part-00049</td><td>part-00049</td><td>44263</td><td>1455505890000</td></tr><tr><td>dbfs:/databricks-datasets/songs/data-001/part-00050</td><td>part-00050</td><td>54841</td><td>1455505890000</td></tr><tr><td>dbfs:/databricks-datasets/songs/data-001/part-00051</td><td>part-00051</td><td>54306</td><td>1455505890000</td></tr><tr><td>dbfs:/databricks-datasets/songs/data-001/part-00052</td><td>part-00052</td><td>53610</td><td>1455505890000</td></tr><tr><td>dbfs:/databricks-datasets/songs/data-001/part-00053</td><td>part-00053</td><td>53573</td><td>1455505890000</td></tr><tr><td>dbfs:/databricks-datasets/songs/data-001/part-00054</td><td>part-00054</td><td>53854</td><td>1455505890000</td></tr><tr><td>dbfs:/databricks-datasets/songs/data-001/part-00055</td><td>part-00055</td><td>54236</td><td>1455505890000</td></tr><tr><td>dbfs:/databricks-datasets/songs/data-001/part-00056</td><td>part-00056</td><td>54455</td><td>1455505890000</td></tr><tr><td>dbfs:/databricks-datasets/songs/data-001/part-00057</td><td>part-00057</td><td>52307</td><td>1455505890000</td></tr><tr><td>dbfs:/databricks-datasets/songs/data-001/part-00058</td><td>part-00058</td><td>52313</td><td>1455505890000</td></tr><tr><td>dbfs:/databricks-datasets/songs/data-001/part-00059</td><td>part-00059</td><td>52446</td><td>1455505891000</td></tr><tr><td>dbfs:/databricks-datasets/songs/data-001/part-00060</td><td>part-00060</td><td>51958</td><td>1455505891000</td></tr><tr><td>dbfs:/databricks-datasets/songs/data-001/part-00061</td><td>part-00061</td><td>53859</td><td>1455505891000</td></tr><tr><td>dbfs:/databricks-datasets/songs/data-001/part-00062</td><td>part-00062</td><td>53698</td><td>1455505891000</td></tr><tr><td>dbfs:/databricks-datasets/songs/data-001/part-00063</td><td>part-00063</td><td>54482</td><td>1455505891000</td></tr><tr><td>dbfs:/databricks-datasets/songs/data-001/part-00064</td><td>part-00064</td><td>40182</td><td>1455505891000</td></tr><tr><td>dbfs:/databricks-datasets/songs/data-001/part-00065</td><td>part-00065</td><td>54410</td><td>1455505891000</td></tr><tr><td>dbfs:/databricks-datasets/songs/data-001/part-00066</td><td>part-00066</td><td>49123</td><td>1455505891000</td></tr><tr><td>dbfs:/databricks-datasets/songs/data-001/part-00067</td><td>part-00067</td><td>50796</td><td>1455505892000</td></tr><tr><td>dbfs:/databricks-datasets/songs/data-001/part-00068</td><td>part-00068</td><td>49561</td><td>1455505892000</td></tr><tr><td>dbfs:/databricks-datasets/songs/data-001/part-00069</td><td>part-00069</td><td>52294</td><td>1455505893000</td></tr><tr><td>dbfs:/databricks-datasets/songs/data-001/part-00070</td><td>part-00070</td><td>51250</td><td>1455505893000</td></tr><tr><td>dbfs:/databricks-datasets/songs/data-001/part-00071</td><td>part-00071</td><td>58942</td><td>1455505899000</td></tr><tr><td>dbfs:/databricks-datasets/songs/data-001/part-00072</td><td>part-00072</td><td>54589</td><td>1455505900000</td></tr><tr><td>dbfs:/databricks-datasets/songs/data-001/part-00073</td><td>part-00073</td><td>54233</td><td>1455505900000</td></tr><tr><td>dbfs:/databricks-datasets/songs/data-001/part-00074</td><td>part-00074</td><td>54725</td><td>1455505900000</td></tr><tr><td>dbfs:/databricks-datasets/songs/data-001/part-00075</td><td>part-00075</td><td>54877</td><td>1455505901000</td></tr><tr><td>dbfs:/databricks-datasets/songs/data-001/part-00076</td><td>part-00076</td><td>54333</td><td>1455505901000</td></tr><tr><td>dbfs:/databricks-datasets/songs/data-001/part-00077</td><td>part-00077</td><td>51927</td><td>1455505901000</td></tr><tr><td>dbfs:/databricks-datasets/songs/data-001/part-00078</td><td>part-00078</td><td>51744</td><td>1455505901000</td></tr><tr><td>dbfs:/databricks-datasets/songs/data-001/part-00079</td><td>part-00079</td><td>53187</td><td>1455505901000</td></tr><tr><td>dbfs:/databricks-datasets/songs/data-001/part-00080</td><td>part-00080</td><td>43246</td><td>1455505901000</td></tr><tr><td>dbfs:/databricks-datasets/songs/data-001/part-00081</td><td>part-00081</td><td>54269</td><td>1455505901000</td></tr><tr><td>dbfs:/databricks-datasets/songs/data-001/part-00082</td><td>part-00082</td><td>48464</td><td>1455505901000</td></tr><tr><td>dbfs:/databricks-datasets/songs/data-001/part-00083</td><td>part-00083</td><td>52144</td><td>1455505901000</td></tr><tr><td>dbfs:/databricks-datasets/songs/data-001/part-00084</td><td>part-00084</td><td>53375</td><td>1455505901000</td></tr><tr><td>dbfs:/databricks-datasets/songs/data-001/part-00085</td><td>part-00085</td><td>55139</td><td>1455505902000</td></tr><tr><td>dbfs:/databricks-datasets/songs/data-001/part-00086</td><td>part-00086</td><td>50924</td><td>1455505902000</td></tr><tr><td>dbfs:/databricks-datasets/songs/data-001/part-00087</td><td>part-00087</td><td>52013</td><td>1455505902000</td></tr><tr><td>dbfs:/databricks-datasets/songs/data-001/part-00088</td><td>part-00088</td><td>54262</td><td>1455505902000</td></tr><tr><td>dbfs:/databricks-datasets/songs/data-001/part-00089</td><td>part-00089</td><td>53007</td><td>1455505902000</td></tr><tr><td>dbfs:/databricks-datasets/songs/data-001/part-00090</td><td>part-00090</td><td>55142</td><td>1455505902000</td></tr><tr><td>dbfs:/databricks-datasets/songs/data-001/part-00091</td><td>part-00091</td><td>52049</td><td>1455505902000</td></tr><tr><td>dbfs:/databricks-datasets/songs/data-001/part-00092</td><td>part-00092</td><td>54714</td><td>1455505902000</td></tr><tr><td>dbfs:/databricks-datasets/songs/data-001/part-00093</td><td>part-00093</td><td>52906</td><td>1455505902000</td></tr><tr><td>dbfs:/databricks-datasets/songs/data-001/part-00094</td><td>part-00094</td><td>52188</td><td>1455505902000</td></tr><tr><td>dbfs:/databricks-datasets/songs/data-001/part-00095</td><td>part-00095</td><td>50768</td><td>1455505902000</td></tr><tr><td>dbfs:/databricks-datasets/songs/data-001/part-00096</td><td>part-00096</td><td>55242</td><td>1455505903000</td></tr><tr><td>dbfs:/databricks-datasets/songs/data-001/part-00097</td><td>part-00097</td><td>52059</td><td>1455505903000</td></tr><tr><td>dbfs:/databricks-datasets/songs/data-001/part-00098</td><td>part-00098</td><td>52982</td><td>1455505903000</td></tr><tr><td>dbfs:/databricks-datasets/songs/data-001/part-00099</td><td>part-00099</td><td>52015</td><td>1455505903000</td></tr><tr><td>dbfs:/databricks-datasets/songs/data-001/part-00100</td><td>part-00100</td><td>51467</td><td>1455505903000</td></tr><tr><td>dbfs:/databricks-datasets/songs/data-001/part-00101</td><td>part-00101</td><td>50926</td><td>1455505903000</td></tr><tr><td>dbfs:/databricks-datasets/songs/data-001/part-00102</td><td>part-00102</td><td>55018</td><td>1455505903000</td></tr><tr><td>dbfs:/databricks-datasets/songs/data-001/part-00103</td><td>part-00103</td><td>50043</td><td>1455505903000</td></tr><tr><td>dbfs:/databricks-datasets/songs/data-001/part-00104</td><td>part-00104</td><td>51936</td><td>1455505903000</td></tr><tr><td>dbfs:/databricks-datasets/songs/data-001/part-00105</td><td>part-00105</td><td>57311</td><td>1455505903000</td></tr><tr><td>dbfs:/databricks-datasets/songs/data-001/part-00106</td><td>part-00106</td><td>55090</td><td>1455505903000</td></tr><tr><td>dbfs:/databricks-datasets/songs/data-001/part-00107</td><td>part-00107</td><td>54396</td><td>1455505904000</td></tr><tr><td>dbfs:/databricks-datasets/songs/data-001/part-00108</td><td>part-00108</td><td>56594</td><td>1455505904000</td></tr><tr><td>dbfs:/databricks-datasets/songs/data-001/part-00109</td><td>part-00109</td><td>53260</td><td>1455505904000</td></tr><tr><td>dbfs:/databricks-datasets/songs/data-001/part-00110</td><td>part-00110</td><td>42007</td><td>1455505904000</td></tr><tr><td>dbfs:/databricks-datasets/songs/data-001/part-00119</td><td>part-00119</td><td>0</td><td>1455505904000</td></tr></tbody></table></div>"
      ]
     },
     "metadata": {
      "application/vnd.databricks.v1+output": {
       "addedWidgets": {},
       "aggData": [],
       "aggError": "",
       "aggOverflow": false,
       "aggSchema": [],
       "aggSeriesLimitReached": false,
       "aggType": "",
       "arguments": {},
       "columnCustomDisplayInfos": {},
       "data": [
        [
         "dbfs:/databricks-datasets/songs/data-001/header.txt",
         "header.txt",
         377,
         1455505885000
        ],
        [
         "dbfs:/databricks-datasets/songs/data-001/part-00000",
         "part-00000",
         52837,
         1455505885000
        ],
        [
         "dbfs:/databricks-datasets/songs/data-001/part-00001",
         "part-00001",
         52469,
         1455505885000
        ],
        [
         "dbfs:/databricks-datasets/songs/data-001/part-00002",
         "part-00002",
         51778,
         1455505885000
        ],
        [
         "dbfs:/databricks-datasets/songs/data-001/part-00003",
         "part-00003",
         50551,
         1455505885000
        ],
        [
         "dbfs:/databricks-datasets/songs/data-001/part-00004",
         "part-00004",
         53449,
         1455505885000
        ],
        [
         "dbfs:/databricks-datasets/songs/data-001/part-00005",
         "part-00005",
         53301,
         1455505885000
        ],
        [
         "dbfs:/databricks-datasets/songs/data-001/part-00006",
         "part-00006",
         54184,
         1455505886000
        ],
        [
         "dbfs:/databricks-datasets/songs/data-001/part-00007",
         "part-00007",
         50924,
         1455505886000
        ],
        [
         "dbfs:/databricks-datasets/songs/data-001/part-00008",
         "part-00008",
         52533,
         1455505886000
        ],
        [
         "dbfs:/databricks-datasets/songs/data-001/part-00009",
         "part-00009",
         54570,
         1455505886000
        ],
        [
         "dbfs:/databricks-datasets/songs/data-001/part-00010",
         "part-00010",
         54338,
         1455505886000
        ],
        [
         "dbfs:/databricks-datasets/songs/data-001/part-00011",
         "part-00011",
         51836,
         1455505886000
        ],
        [
         "dbfs:/databricks-datasets/songs/data-001/part-00012",
         "part-00012",
         52297,
         1455505886000
        ],
        [
         "dbfs:/databricks-datasets/songs/data-001/part-00013",
         "part-00013",
         52044,
         1455505886000
        ],
        [
         "dbfs:/databricks-datasets/songs/data-001/part-00014",
         "part-00014",
         50704,
         1455505886000
        ],
        [
         "dbfs:/databricks-datasets/songs/data-001/part-00015",
         "part-00015",
         54158,
         1455505886000
        ],
        [
         "dbfs:/databricks-datasets/songs/data-001/part-00016",
         "part-00016",
         50080,
         1455505887000
        ],
        [
         "dbfs:/databricks-datasets/songs/data-001/part-00017",
         "part-00017",
         47708,
         1455505887000
        ],
        [
         "dbfs:/databricks-datasets/songs/data-001/part-00018",
         "part-00018",
         8858,
         1455505887000
        ],
        [
         "dbfs:/databricks-datasets/songs/data-001/part-00019",
         "part-00019",
         53323,
         1455505887000
        ],
        [
         "dbfs:/databricks-datasets/songs/data-001/part-00020",
         "part-00020",
         57877,
         1455505887000
        ],
        [
         "dbfs:/databricks-datasets/songs/data-001/part-00021",
         "part-00021",
         52491,
         1455505887000
        ],
        [
         "dbfs:/databricks-datasets/songs/data-001/part-00022",
         "part-00022",
         54791,
         1455505887000
        ],
        [
         "dbfs:/databricks-datasets/songs/data-001/part-00023",
         "part-00023",
         50682,
         1455505887000
        ],
        [
         "dbfs:/databricks-datasets/songs/data-001/part-00024",
         "part-00024",
         52863,
         1455505887000
        ],
        [
         "dbfs:/databricks-datasets/songs/data-001/part-00025",
         "part-00025",
         47416,
         1455505887000
        ],
        [
         "dbfs:/databricks-datasets/songs/data-001/part-00026",
         "part-00026",
         50130,
         1455505887000
        ],
        [
         "dbfs:/databricks-datasets/songs/data-001/part-00027",
         "part-00027",
         53462,
         1455505888000
        ],
        [
         "dbfs:/databricks-datasets/songs/data-001/part-00028",
         "part-00028",
         54179,
         1455505888000
        ],
        [
         "dbfs:/databricks-datasets/songs/data-001/part-00029",
         "part-00029",
         52738,
         1455505888000
        ],
        [
         "dbfs:/databricks-datasets/songs/data-001/part-00030",
         "part-00030",
         54159,
         1455505888000
        ],
        [
         "dbfs:/databricks-datasets/songs/data-001/part-00031",
         "part-00031",
         51247,
         1455505888000
        ],
        [
         "dbfs:/databricks-datasets/songs/data-001/part-00032",
         "part-00032",
         51610,
         1455505888000
        ],
        [
         "dbfs:/databricks-datasets/songs/data-001/part-00033",
         "part-00033",
         53895,
         1455505888000
        ],
        [
         "dbfs:/databricks-datasets/songs/data-001/part-00034",
         "part-00034",
         53125,
         1455505888000
        ],
        [
         "dbfs:/databricks-datasets/songs/data-001/part-00035",
         "part-00035",
         54066,
         1455505888000
        ],
        [
         "dbfs:/databricks-datasets/songs/data-001/part-00036",
         "part-00036",
         54265,
         1455505888000
        ],
        [
         "dbfs:/databricks-datasets/songs/data-001/part-00037",
         "part-00037",
         54264,
         1455505888000
        ],
        [
         "dbfs:/databricks-datasets/songs/data-001/part-00038",
         "part-00038",
         50540,
         1455505889000
        ],
        [
         "dbfs:/databricks-datasets/songs/data-001/part-00039",
         "part-00039",
         55193,
         1455505889000
        ],
        [
         "dbfs:/databricks-datasets/songs/data-001/part-00040",
         "part-00040",
         54537,
         1455505889000
        ],
        [
         "dbfs:/databricks-datasets/songs/data-001/part-00041",
         "part-00041",
         52402,
         1455505889000
        ],
        [
         "dbfs:/databricks-datasets/songs/data-001/part-00042",
         "part-00042",
         54673,
         1455505889000
        ],
        [
         "dbfs:/databricks-datasets/songs/data-001/part-00043",
         "part-00043",
         53009,
         1455505889000
        ],
        [
         "dbfs:/databricks-datasets/songs/data-001/part-00044",
         "part-00044",
         51789,
         1455505889000
        ],
        [
         "dbfs:/databricks-datasets/songs/data-001/part-00045",
         "part-00045",
         52986,
         1455505889000
        ],
        [
         "dbfs:/databricks-datasets/songs/data-001/part-00046",
         "part-00046",
         54442,
         1455505889000
        ],
        [
         "dbfs:/databricks-datasets/songs/data-001/part-00047",
         "part-00047",
         52971,
         1455505889000
        ],
        [
         "dbfs:/databricks-datasets/songs/data-001/part-00048",
         "part-00048",
         53331,
         1455505889000
        ],
        [
         "dbfs:/databricks-datasets/songs/data-001/part-00049",
         "part-00049",
         44263,
         1455505890000
        ],
        [
         "dbfs:/databricks-datasets/songs/data-001/part-00050",
         "part-00050",
         54841,
         1455505890000
        ],
        [
         "dbfs:/databricks-datasets/songs/data-001/part-00051",
         "part-00051",
         54306,
         1455505890000
        ],
        [
         "dbfs:/databricks-datasets/songs/data-001/part-00052",
         "part-00052",
         53610,
         1455505890000
        ],
        [
         "dbfs:/databricks-datasets/songs/data-001/part-00053",
         "part-00053",
         53573,
         1455505890000
        ],
        [
         "dbfs:/databricks-datasets/songs/data-001/part-00054",
         "part-00054",
         53854,
         1455505890000
        ],
        [
         "dbfs:/databricks-datasets/songs/data-001/part-00055",
         "part-00055",
         54236,
         1455505890000
        ],
        [
         "dbfs:/databricks-datasets/songs/data-001/part-00056",
         "part-00056",
         54455,
         1455505890000
        ],
        [
         "dbfs:/databricks-datasets/songs/data-001/part-00057",
         "part-00057",
         52307,
         1455505890000
        ],
        [
         "dbfs:/databricks-datasets/songs/data-001/part-00058",
         "part-00058",
         52313,
         1455505890000
        ],
        [
         "dbfs:/databricks-datasets/songs/data-001/part-00059",
         "part-00059",
         52446,
         1455505891000
        ],
        [
         "dbfs:/databricks-datasets/songs/data-001/part-00060",
         "part-00060",
         51958,
         1455505891000
        ],
        [
         "dbfs:/databricks-datasets/songs/data-001/part-00061",
         "part-00061",
         53859,
         1455505891000
        ],
        [
         "dbfs:/databricks-datasets/songs/data-001/part-00062",
         "part-00062",
         53698,
         1455505891000
        ],
        [
         "dbfs:/databricks-datasets/songs/data-001/part-00063",
         "part-00063",
         54482,
         1455505891000
        ],
        [
         "dbfs:/databricks-datasets/songs/data-001/part-00064",
         "part-00064",
         40182,
         1455505891000
        ],
        [
         "dbfs:/databricks-datasets/songs/data-001/part-00065",
         "part-00065",
         54410,
         1455505891000
        ],
        [
         "dbfs:/databricks-datasets/songs/data-001/part-00066",
         "part-00066",
         49123,
         1455505891000
        ],
        [
         "dbfs:/databricks-datasets/songs/data-001/part-00067",
         "part-00067",
         50796,
         1455505892000
        ],
        [
         "dbfs:/databricks-datasets/songs/data-001/part-00068",
         "part-00068",
         49561,
         1455505892000
        ],
        [
         "dbfs:/databricks-datasets/songs/data-001/part-00069",
         "part-00069",
         52294,
         1455505893000
        ],
        [
         "dbfs:/databricks-datasets/songs/data-001/part-00070",
         "part-00070",
         51250,
         1455505893000
        ],
        [
         "dbfs:/databricks-datasets/songs/data-001/part-00071",
         "part-00071",
         58942,
         1455505899000
        ],
        [
         "dbfs:/databricks-datasets/songs/data-001/part-00072",
         "part-00072",
         54589,
         1455505900000
        ],
        [
         "dbfs:/databricks-datasets/songs/data-001/part-00073",
         "part-00073",
         54233,
         1455505900000
        ],
        [
         "dbfs:/databricks-datasets/songs/data-001/part-00074",
         "part-00074",
         54725,
         1455505900000
        ],
        [
         "dbfs:/databricks-datasets/songs/data-001/part-00075",
         "part-00075",
         54877,
         1455505901000
        ],
        [
         "dbfs:/databricks-datasets/songs/data-001/part-00076",
         "part-00076",
         54333,
         1455505901000
        ],
        [
         "dbfs:/databricks-datasets/songs/data-001/part-00077",
         "part-00077",
         51927,
         1455505901000
        ],
        [
         "dbfs:/databricks-datasets/songs/data-001/part-00078",
         "part-00078",
         51744,
         1455505901000
        ],
        [
         "dbfs:/databricks-datasets/songs/data-001/part-00079",
         "part-00079",
         53187,
         1455505901000
        ],
        [
         "dbfs:/databricks-datasets/songs/data-001/part-00080",
         "part-00080",
         43246,
         1455505901000
        ],
        [
         "dbfs:/databricks-datasets/songs/data-001/part-00081",
         "part-00081",
         54269,
         1455505901000
        ],
        [
         "dbfs:/databricks-datasets/songs/data-001/part-00082",
         "part-00082",
         48464,
         1455505901000
        ],
        [
         "dbfs:/databricks-datasets/songs/data-001/part-00083",
         "part-00083",
         52144,
         1455505901000
        ],
        [
         "dbfs:/databricks-datasets/songs/data-001/part-00084",
         "part-00084",
         53375,
         1455505901000
        ],
        [
         "dbfs:/databricks-datasets/songs/data-001/part-00085",
         "part-00085",
         55139,
         1455505902000
        ],
        [
         "dbfs:/databricks-datasets/songs/data-001/part-00086",
         "part-00086",
         50924,
         1455505902000
        ],
        [
         "dbfs:/databricks-datasets/songs/data-001/part-00087",
         "part-00087",
         52013,
         1455505902000
        ],
        [
         "dbfs:/databricks-datasets/songs/data-001/part-00088",
         "part-00088",
         54262,
         1455505902000
        ],
        [
         "dbfs:/databricks-datasets/songs/data-001/part-00089",
         "part-00089",
         53007,
         1455505902000
        ],
        [
         "dbfs:/databricks-datasets/songs/data-001/part-00090",
         "part-00090",
         55142,
         1455505902000
        ],
        [
         "dbfs:/databricks-datasets/songs/data-001/part-00091",
         "part-00091",
         52049,
         1455505902000
        ],
        [
         "dbfs:/databricks-datasets/songs/data-001/part-00092",
         "part-00092",
         54714,
         1455505902000
        ],
        [
         "dbfs:/databricks-datasets/songs/data-001/part-00093",
         "part-00093",
         52906,
         1455505902000
        ],
        [
         "dbfs:/databricks-datasets/songs/data-001/part-00094",
         "part-00094",
         52188,
         1455505902000
        ],
        [
         "dbfs:/databricks-datasets/songs/data-001/part-00095",
         "part-00095",
         50768,
         1455505902000
        ],
        [
         "dbfs:/databricks-datasets/songs/data-001/part-00096",
         "part-00096",
         55242,
         1455505903000
        ],
        [
         "dbfs:/databricks-datasets/songs/data-001/part-00097",
         "part-00097",
         52059,
         1455505903000
        ],
        [
         "dbfs:/databricks-datasets/songs/data-001/part-00098",
         "part-00098",
         52982,
         1455505903000
        ],
        [
         "dbfs:/databricks-datasets/songs/data-001/part-00099",
         "part-00099",
         52015,
         1455505903000
        ],
        [
         "dbfs:/databricks-datasets/songs/data-001/part-00100",
         "part-00100",
         51467,
         1455505903000
        ],
        [
         "dbfs:/databricks-datasets/songs/data-001/part-00101",
         "part-00101",
         50926,
         1455505903000
        ],
        [
         "dbfs:/databricks-datasets/songs/data-001/part-00102",
         "part-00102",
         55018,
         1455505903000
        ],
        [
         "dbfs:/databricks-datasets/songs/data-001/part-00103",
         "part-00103",
         50043,
         1455505903000
        ],
        [
         "dbfs:/databricks-datasets/songs/data-001/part-00104",
         "part-00104",
         51936,
         1455505903000
        ],
        [
         "dbfs:/databricks-datasets/songs/data-001/part-00105",
         "part-00105",
         57311,
         1455505903000
        ],
        [
         "dbfs:/databricks-datasets/songs/data-001/part-00106",
         "part-00106",
         55090,
         1455505903000
        ],
        [
         "dbfs:/databricks-datasets/songs/data-001/part-00107",
         "part-00107",
         54396,
         1455505904000
        ],
        [
         "dbfs:/databricks-datasets/songs/data-001/part-00108",
         "part-00108",
         56594,
         1455505904000
        ],
        [
         "dbfs:/databricks-datasets/songs/data-001/part-00109",
         "part-00109",
         53260,
         1455505904000
        ],
        [
         "dbfs:/databricks-datasets/songs/data-001/part-00110",
         "part-00110",
         42007,
         1455505904000
        ],
        [
         "dbfs:/databricks-datasets/songs/data-001/part-00119",
         "part-00119",
         0,
         1455505904000
        ]
       ],
       "datasetInfos": [],
       "dbfsResultPath": null,
       "isJsonSchema": true,
       "metadata": {},
       "overflow": false,
       "plotOptions": {
        "customPlotOptions": {},
        "displayType": "table",
        "pivotAggregation": null,
        "pivotColumns": null,
        "xColumns": null,
        "yColumns": null
       },
       "removedWidgets": [],
       "schema": [
        {
         "metadata": "{}",
         "name": "path",
         "type": "\"string\""
        },
        {
         "metadata": "{}",
         "name": "name",
         "type": "\"string\""
        },
        {
         "metadata": "{}",
         "name": "size",
         "type": "\"long\""
        },
        {
         "metadata": "{}",
         "name": "modificationTime",
         "type": "\"long\""
        }
       ],
       "type": "table"
      }
     },
     "output_type": "display_data"
    }
   ],
   "source": [
    "# the used records\n",
    "display(dbutils.fs.ls(\"/databricks-datasets/songs/data-001\"))"
   ]
  },
  {
   "cell_type": "code",
   "execution_count": 0,
   "metadata": {
    "application/vnd.databricks.v1+cell": {
     "cellMetadata": {
      "byteLimit": 2048000,
      "rowLimit": 10000
     },
     "inputWidgets": {},
     "nuid": "cdd92ce4-4690-4f85-9629-11e106b9e148",
     "showTitle": false,
     "title": ""
    }
   },
   "outputs": [
    {
     "output_type": "stream",
     "name": "stdout",
     "output_type": "stream",
     "text": [
      "AR81V6H1187FB48872\tnan\tnan\t\tEarl Sixteen\t213.7073\t0.0\t11\t0.419\t-12.106\tSoldier of Jah Army\tnan\tSOVNZSZ12AB018A9B8\t208.289\t125.882\t1\t0.0\tRastaman\t2003\t--\nARVVZQP11E2835DBCB\tnan\tnan\t\tWavves\t133.25016\t0.0\t0\t0.282\t0.596\tWavvves\t0.471578247701\tSOJTQHQ12A8C143C5F\t128.116\t89.519\t1\t0.0\tI Want To See You (And Go To The Movies)\t2009\t--\nARFG9M11187FB3BBCB\tnan\tnan\tNashua USA\tC-Side\t247.32689\t0.0\t9\t0.612\t-4.896\tSanta Festival Compilation 2008 vol.1\tnan\tSOAJSQL12AB0180501\t242.196\t171.278\t5\t1.0\tLoose on the Dancefloor\t0\t225261\nARK4Z2O1187FB45FF0\tnan\tnan\t\tHarvest\t337.05751\t0.247\t4\t0.46\t-9.092\tUnderground Community\t0.0\tSOTDRVW12AB018BEB9\t327.436\t84.986\t4\t0.673\tNo Return\t0\t101619\nAR4VQSG1187FB57E18\t35.25082\t-91.74015\tSearcy, AR\tGossip\t430.23628\t0.0\t2\t0.034\t-6.846\tYr  Mangled Heart\tnan\tSOTVOCL12A8AE478DD\t424.06\t121.998\t4\t0.847\tYr Mangled Heart\t2006\t740623\nARNBV1X1187B996249\tnan\tnan\t\tAlex\t186.80118\t0.0\t4\t0.641\t-16.108\tJolgaledin\tnan\tSODTGRY12AB0182438\t166.156\t140.735\t4\t0.055\tMariu Sonur Jesus\t0\t673970\nARXOEZX1187B9B82A1\tnan\tnan\t\tElie Attieh\t361.89995\t0.0\t7\t0.863\t-4.919\tELITE\tnan\tSOIINTJ12AB0180BA6\t354.476\t128.024\t4\t0.399\tFe Yom We Leila\t0\t280304\nARXPUIA1187B9A32F1\tnan\tnan\tRome, Italy\tSimone Cristicchi\t220.00281\t2.119\t4\t0.486\t-6.52\tDall'Altra Parte Del Cancello\t0.484225272411\tSONHXJK12AAF3B5290\t214.761\t99.954\t1\t0.928\tL'Italiano\t2007\t745962\nARNPPTH1187B9AD429\t51.4855\t-0.37196\tHeston, Middlesex, England\tJimmy Page\t156.86485\t0.334\t7\t0.493\t-9.962\tNo Introduction Necessary [Deluxe Edition]\tnan\tSOGUHGW12A58A80E06\t149.269\t162.48\t4\t0.534\tWailing Sounds\t2004\t599250\nAROGWRA122988FEE45\tnan\tnan\t\tChristos Dantis\t256.67873\t2.537\t9\t0.742\t-13.404\tDaktilika Apotipomata\tnan\tSOJJOYI12A8C13399D\t248.912\t134.944\t4\t0.162\tStin Proigoumeni Zoi\t0\t611396\nARMLWWX1187B98A4A5\tnan\tnan\t\tSiempre Así\t204.64281\t0.0\t9\t0.565\t-12.339\tSiempre Así\tnan\tSOIYFVF12A8C13BEED\t182.573\t99.722\t4\t0.368\tDe tu locura\t0\t780184\nARDR59B1187B993C86\tnan\tnan\t\tOslo 13\t112.48281\t0.0\t8\t0.397\t-34.06\tLive\tnan\tSOOWSDD12AC3DF6C84\t109.087\t88.373\t4\t0.0\tFinale - Intro\t0\t--\nARHAMGQ1187B9B6491\t30.66121\t-93.89386\tKirbyville, TX\tIvory Joe Hunter\t170.39628\t0.166\t10\t0.434\t-9.971\tUprising 50ies\tnan\tSOIVREI12AC468C0E3\t164.833\t102.329\t5\t0.508\tI Quit My Pretty Mama\t0\t373410\nARORFTD1187B99F7D4\tnan\tnan\t台北, Taiwan\tEpitaph\t215.95383\t5.045\t7\t0.573\t-6.728\tReturn To Reality\t0.0\tSOEWJZN12AC3DF4A65\t204.196\t113.745\t4\t1.0\tSet Your Spirit Free\t0\t837454\nAR8UA7Z1187B9AD9C9\t48.10751\t-1.68447\tRennes\tÉtienne Daho\t303.62077\t0.0\t1\t0.755\t-11.422\tLive Ed\tnan\tSORSGDF12A6D4F3B7F\t303.621\t113.924\t3\t1.0\tStay with me (Live 1989)\t0\t138182\nARMLOSJ1187B98B08C\t52.08399\t4.31741\tThe Hague, Netherlands\tAnouk\t266.60526\t0.27\t4\t0.466\t-8.759\tUrban Solitude\t0.592213231387\tSOUHUSP12AB01858D3\t246.091\t131.724\t4\t0.803\tIt Wasn't Me\t0\t882513\nARN1ETG1187FB41238\tnan\tnan\t\tRivermaya\t326.19057\t0.09\t2\t1.0\t-8.587\tGreatest Hits\t0.355521077989\tSOXISCD12AB018EF71\t314.485\t157.781\t4\t1.0\tIf\t1997\t364624\nARQWEFN12086C16CBB\tnan\tnan\t\tIgnominious Incarceration\t51.04281\t2.368\t4\t0.0\t-5.403\tOf Winter Born\t0.367273415809\tSOXOTMK12AB01889A6\t51.043\t117.781\t4\t0.937\tThe Beginning\t2009\t54408\nARYCW9Z11C8A42B088\tnan\tnan\t\tRobert Pattinson\t129.4624\t0.0\t8\t0.023\t-10.231\tHow To Be [Original Motion Picture Soundtrack]\t0.523445682991\tSOZIWST12A58A7C80F\t129.462\t86.782\t5\t0.394\tDoin' Fine\t0\t756327\nAR19DC41187B9A1BED\tnan\tnan\t\tAxel Krygier\t253.33506\t0.2\t2\t0.16\t-7.634\tSecreto y Malibú\t0.299877488274\tSOMLLWM12A6D4F4DC7\t240.292\t106.174\t4\t0.391\tFinal\t2003\t514414\nARLGLB31187B9AE0C2\t38.2589\t-92.43659\tMissouri\tDeep Thinkers\t237.76608\t0.0\t4\t0.308\t-5.864\tEastern Conference All-Stars IV\t0.212045405484\tSOGBCVX12AB018894D\t232.728\t170.014\t4\t0.0\tWar of Words\t2004\t765175\nARRUHHG11F50C4F353\t42.31256\t-71.08868\tMass. - Boston\tCheryl Melody\t132.96281\t0.0\t6\t0.535\t-19.018\tWorld Peace-The Children's Dream\t0.0\tSOGJQKT12A8C137046\t132.963\t77.072\t3\t0.887\tKids Take Action\t0\t452240\nARVFCVA1187B992D8A\t52.51607\t13.37698\tBerlin, Germany\tFuckpony\t399.35955\t0.065\t1\t0.034\t-18.853\tChildren Of Love\tnan\tSORTWVI12A6D4FB7D4\t391.303\t120.959\t4\t1.0\tDraft\t2006\t882819\nAR6NBDC1187FB4D96D\tnan\tnan\t\tChuck Berry\t168.75057\t2.612\t3\t0.063\t-9.086\tRock 'N' Roll Days\tnan\tSOEEHGV12AB0184F4A\t164.473\t149.709\t4\t0.601\tDown Bound Train\t1991\t420122\nARRPJSX1187FB4055B\tnan\tnan\t\tRichard Muller\t396.042\t0.0\t6\t0.0\t-8.858\t44 Koncert\tnan\tSODSVPG12AB01815CE\t396.042\t125.086\t4\t0.223\tTicho a tma - live\t0\t385054\nARZ8KO81187B9B1B7C\tnan\tnan\t\tBurt Bacharach\t192.10404\t0.206\t2\t0.122\t-12.546\tVarious Artists / Blissful Melodies\t0.57342045106\tSOTHREZ12A58A77F2D\t177.087\t123.666\t4\t0.718\tI'll Never Fall In Love Again\t1968\t448350\nARPDDNW1187B998CC1\tnan\tnan\tLondon\tDJ Yoda\t12.2771\t0.145\t0\t0.505\t-26.699\tThe Amazing Adventures Of DJ Yoda\tnan\tSONVDXP12A8C143B30\t12.277\t96.982\t1\t0.0\tFiddy\t2006\t753956\nAR6STYR1187FB46792\tnan\tnan\tCambridge, MA\tJohnny Hodges\t367.56853\t0.0\t1\t0.531\t-11.857\tIndigo Echoes\tnan\tSOCLVMV12AC468A93E\t359.34\t107.3\t4\t0.9\tDuke's Blues\t0\t152185\nARTC1LV1187B9A4858\t51.4536\t-0.01802\tGoldsmith's College, Lewisham, Lo\tThe Bonzo Dog Doo Dah Band\t189.93587\t0.345\t10\t0.665\t-12.934\tCornology\t0.531983193341\tSOOFKFU12A6D4F5F68\t183.56\t134.957\t1\t0.0\tJazz_ Delicious Hot_ Disgusting Cold\t0\t195905\nARYQZLO1187FB49C12\tnan\tnan\t\tGreg Mathieson\t233.50812\t0.0\t10\t0.038\t-14.128\tFor My Friends\t0.0\tSOEKTSQ12AB018BC1A\t216.131\t210.421\t4\t0.0\tFor My Friends\t0\t940058\nARQVGDK1187B9B02B4\tnan\tnan\t\tKristine W\t462.68036\t0.09\t2\t0.091\t-5.13\tThe Boss\t0.252481361298\tSOQUTFX12A8C13B187\t450.316\t129.99\t4\t0.555\tThe Boss (Paul Goodyear Funky Downunder Mix)\t0\t664006\nAREYZXL1187B99362F\tnan\tnan\t\tNinjaman\t202.60526\t0.0\t4\t0.045\t-17.18\tBounty Hunter\tnan\tSOHIMVU12AB0185078\t190.694\t92.523\t4\t0.783\tSound Death\t0\t956588\nAR0J0JF1187B991270\t33.61655\t-117.93037\tNewport Beach, CA\tChris Wall\t241.52771\t0.235\t7\t0.32\t-10.174\tTexas Road Trip\t0.436200972858\tSOJQLMS12A58A7C00E\t237.111\t170.281\t4\t0.254\tDamn Good Time ([Live])\t0\t531486\nAR3ES181187B9B488B\tnan\tnan\t\tLondonbeat\t275.64363\t0.345\t2\t0.587\t-11.032\tThe Very Best Of\t0.0\tSONIZDX12A8C138468\t260.093\t94.128\t4\t0.751\tSome Lucky Guy\t1992\t504919\nARSI3101187FB5BBC3\t45.51228\t-73.55439\tMontreal QC\tThe Besnard Lakes\t350.69342\t6.629\t2\t0.079\t-5.741\tThe Besnard Lakes Are The Dark Horse\t0.72924248023\tSOLGQEG12A6D4F7931\t333.584\t70.414\t4\t0.0\tDevastation\t2007\t849653\nAR4PQ891187FB5CA9F\t40.76099\t-74.20991\tEast Orange, NJ\tDionne Warwick\t166.55628\t0.263\t5\t0.831\t-14.565\tPop Masters: I Say A Little Prayer For You\tnan\tSOHVNVB12AB018A51E\t156.119\t95.084\t4\t1.0\tOnly Love Can Break A Heart\t1968\t231257\nARFAN5B1187FB3A6BB\tnan\tnan\tNew York, NY\tCarly Simon\t249.49506\t0.0\t9\t0.586\t-13.61\tHello Big Man\t0.425124658313\tSOZRCNM12A8C136FB1\t237.499\t126.587\t4\t0.641\tYou Know What To Do (LP Version)\t1983\t885908\nARB2FZP1187B99C739\t55.95415\t-3.20277\tEdinburgh, Scotland\tFire Engines\t53.86404\t0.235\t6\t0.031\t-8.348\tHungry Beat\t0.0\tSOAUAQI12A58A777F1\t49.789\t102.771\t3\t1.0\tPlastic Gift (Reprise)\t1992\t462515\nAR7DNHO1187B992B0B\tnan\tnan\t\tAlton Ellis\t233.76934\t0.0\t9\t0.014\t-5.415\tMany Moods Of\tnan\tSONGWVS12A8C138080\t224.798\t132.622\t4\t0.052\tStronger (cut 2)\t2001\t525631\nARSG1PW1187B9B3E9E\t50.94165\t6.95505\tCologne, Germany\tBlank & Jones\t275.12118\t0.0\t6\t0.217\t-5.784\tRelax Edition Four\t0.537503904192\tSODBQKX12AB0181D20\t266.739\t121.983\t4\t0.0\tEvery Day Every Night\t2009\t30238\nARLNGJW1187B9A241C\t57.70133\t11.96689\tGöteborg\tSkitsystem\t191.13751\t0.148\t4\t0.018\t-2.473\tStigmata\t0.543509049026\tSOVCPMH12A8C135859\t182.155\t231.448\t4\t0.0\tStigmata\t2006\t228525\nAR7L4SB1187FB3AF0C\tnan\tnan\t\tSplodgenessabounds\t299.07546\t0.468\t4\t0.374\t-6.552\tThe Artful Splodger\tnan\tSOBAXRY12A8C1435B0\t289.965\t130.152\t4\t0.648\tStorm From The East\t0\t640597\nARBWTDH122988EE23F\tnan\tnan\t\tSuncatcher\t468.74077\t0.0\t1\t0.0\t-7.233\tLosing Daylight\tnan\tSOPWIOV12AB0189FFB\t459.639\t137.925\t4\t0.0\tLosing Daylight\t0\t678989\nARSX6IX1187B9B640C\t35.14968\t-90.04892\tMemphis, TN\tBig Star\t110.34077\t0.316\t4\t0.322\t-13.036\tKeep An Eye On The Sky\t0.426418585306\tSOEUJLX12AB018DE2C\t103.944\t141.679\t4\t0.0\tLovely Day [aka Stroke It Noel] [Demo]\t0\t406235\nARXZDGN1187FB54760\tnan\tnan\tLondon &amp; New York\tFiction Plane\t234.78812\t0.0\t2\t0.665\t-4.351\tEverything Will Never Be OK\tnan\tSORNDWK12AF72A233A\t223.927\t81.03\t5\t0.888\tSickness\t2003\t784709\nAR7GVOV1187B9B5FF1\t42.37522\t-72.51984\tAmherst, MA\tSebadoh\t705.25342\t0.397\t8\t0.129\t-12.987\tIII\t0.323112120895\tSOQFOUR12A81358242\t701.005\t45.278\t4\t0.0\tShowtape '91\t2006\t460746\nAROCFXT11E2835CEF3\t51.50632\t-0.12714\tLondon, Bedford, Leicester\tPhilharmonia Orchestra/Herbert von Karajan\t383.52934\t3.245\t3\t0.638\t-13.217\tTchaikovsky: Nutcraker Suite_ Swan Lake Suite_ Sleeping Beauty Suite\tnan\tSOFFDXS12A58A78277\t375.74\t65.735\t4\t0.674\tThe Sleeping Beauty_ Op.66 - Suite (1990 Digital Remaster): Pas d'action - Adagio (Acte I)\t0\t124693\nARKMXNL121318C5869\tnan\tnan\t\tMaj karman kauniit kuvat\t196.10077\t0.258\t1\t0.0\t-4.085\tRomanssi\tnan\tSOHKPOX12AB0181575\t196.101\t80.092\t4\t0.0\tKun lapset aamulla heräsivät 2001\t0\t121505\nARYOGF31187FB44E53\tnan\tnan\t\tNew Orleans Klezmer Allstars\t299.20608\t0.165\t1\t0.264\t-8.154\tFresh Out The Past\t0.28660595546\tSONGMWB12A8C131C9B\t293.082\t110.544\t3\t0.455\tThe Unholy Chazir\t1998\t283531\nARQ45091187FB54009\tnan\tnan\t\tAllan Edwall\t94.04036\t0.0\t0\t0.352\t-11.994\tMina Visor 2\t0.323112120895\tSOQWCZU12AC90715EB\t88.886\t118.451\t3\t0.696\tEn Egen Hjärtevän\t0\t461445\nARMYOL31187B98FA1D\tnan\tnan\t\tMolemen\t28.08118\t0.0\t7\t0.333\t-21.197\tChicago City Limits Vol. 2\t0.0\tSOJRVKZ12A8C14514B\t28.081\t87.28\t5\t0.707\tIntro\t2006\t453107\nAR63DJ41187FB4056D\t52.88356\t-1.97406\tEngland\tMojave 3\t207.93424\t0.189\t3\t0.0\t-4.834\tPuzzles Like You\t0.349341170483\tSOFDCCS12A6D4F959F\t194.798\t139.306\t4\t0.0\tBad World\t2006\t96002\nARD0FN11187B9B25CD\t40.85715\t-73.85678\tNew York, NY [The Bronx]\tBobby Darin\t152.0322\t0.0\t2\t0.726\t-11.145\tPure Gold\t0.304169503435\tSOMIIZL12AB0184A1B\t147.952\t114.427\t4\t0.0\tI Will Wait for You\t1999\t450733\nARXGASQ1187FB3C727\tnan\tnan\tNew York, NY [Bronx]\tCamp Lo\t207.96036\t0.0\t4\t0.282\t-8.849\tLet's Do It Again\t0.327736683178\tSOOTZYP12AB0187C85\t194.38\t96.006\t4\t1.0\tGorilla Pimp\t2002\t384250\nAR6V5N11187FB53359\tnan\tnan\t\tKenny Bobien\t371.25179\t0.0\t1\t0.671\t-6.773\tReachin' (Ian Friday & B.O.P. Remixes)\tnan\tSOLUDUH12A58A7784F\t366.701\t83.838\t5\t0.758\tReachin' (B.O.P. Reprise Mix)\t0\t335262\nARZOI2W1187B9B6EDB\tnan\tnan\t\tSpyder D\t288.93995\t0.0\t6\t0.597\t-9.631\tDr. Dre 2003\t0.464173991674\tSODPEEF12A8C13AFAD\t284.317\t107.706\t4\t1.0\tGangsta Wages\t2002\t853694\nARFJGR11187FB526F5\tnan\tnan\t\tKristofer Åström\t235.93751\t0.194\t2\t0.879\t-19.529\tLoupita\t0.443291311905\tSOORXVJ12A58A7C300\t223.213\t113.591\t4\t0.543\tLoupita # 1\t2004\t889689\nARSTRTA1241B9C7A64\tnan\tnan\t\tTrance Arts featuring Claire Willis\t505.70404\t2.177\t11\t0.683\t-6.956\tAll I Need To Know (Dub Mixes)\tnan\tSOEJFBQ12A8C145989\t495.049\t140.031\t4\t0.056\tAll I Need To Know\t0\t84638\nAR3TRNJ1187B9AE8AB\tnan\tnan\t\tKatrina & The Waves\t177.57995\t0.405\t2\t0.035\t-8.985\tThe Original Recordings: 1983-1984\t0.270775998946\tSOKJSJH12A8C13C44C\t162.371\t113.054\t4\t0.49\tDon't Take Her Out of My World (original 1983 version)\t0\t--\nARK885Q1187FB5398E\tnan\tnan\t\tStars\t376.842\t3.053\t8\t0.426\t-9.959\tLive at Lollapalooza 2006: Stars\tnan\tSOHARHH12A58A78279\t376.842\t75.044\t4\t0.268\tSet Yourself On Fire\t2004\t510136\nAREL88S1187B9B1466\t62.19845\t17.55142\tSweden\tEurope\t266.84036\t0.2\t2\t0.58\t-4.294\tRock The Night - The Very Best Of Europe\t0.495293621292\tSOIIGAL12A8C136C62\t258.885\t205.55\t4\t0.808\tHere Comes The Night\t2004\t506841\nARK12B01187B9A0929\tnan\tnan\t\tPaatos\t270.8371\t0.461\t9\t0.496\t-6.754\tSilence Of Another Kind\t0.562071716742\tSOXRSVT12AB0189892\t260.87\t100.017\t1\t0.208\tShame\t2006\t922317\nARGWHIU1241B9C4394\tnan\tnan\t\tTaquicardia\t178.18077\t0.0\t7\t0.639\t-4.772\tCD Multibandas\t0.0\tSOWBETV12AB0185B59\t173.97\t112.41\t4\t0.057\tInnolvidable\t0\t387062\nARKXIWD1187B9A8BCF\t41.65381\t-83.53626\tRumble Ville Toledo, Ohio\tRumble Pack\t527.17669\t4.423\t6\t0.308\t-8.411\tCompilation Tracks\t0.0\tSOMRZJO12A8AE45C85\t515.042\t144.97\t4\t0.0\tMad Robots\t0\t299413\nARDTKBG1241B9C985C\tnan\tnan\t\tJamal Abdillah\t244.27057\t0.0\t9\t0.347\t-10.505\tUntukmu\tnan\tSOXEDOG12A8C13D32B\t233.535\t112.731\t4\t0.113\tMana Teman Seperjuanganku\t0\t639884\nAR0X0NS1187B9B3106\t37.77916\t-122.42005\tSan Francisco, CA\tTurn Me On Dead Man\t436.47955\t5.404\t2\t0.293\t-8.283\tTechincolour Mother\t0.349166902125\tSOZHRMS12A8C14043D\t423.149\t106.342\t4\t0.733\tPharmaceutical Rainbows\t2006\t233165\nARENI8E1187FB367EB\t-43.58771\t170.36664\tNew Zealand\tMy Life Story\t236.79955\t0.1\t9\t0.847\t-5.516\tThe Golden Mile\t0.400039656955\tSOZXFYR12A6310DFF5\t229.338\t84.192\t1\t0.95\tApril 1st\t0\t513881\nARTP3M41187B9B4175\tnan\tnan\t\tGillian Elisa\t134.53016\t0.0\t2\t0.309\t-9.995\tWelsh Rare Beat\tnan\tSOFUNML12A8C13BAE9\t120.053\t104.155\t5\t0.746\tHedfan\t2005\t541734\nARD0FN11187B9B25CD\t40.85715\t-73.85678\tNew York, NY [The Bronx]\tBobby Darin\t181.002\t0.185\t10\t0.352\t-14.98\t25th Day Of December With Bobby Darin\tnan\tSOMAWDU12A81357717\t176.628\t101.38\t3\t0.787\tPoor Little Jesus  (LP Version)\t0\t603830\nARVYN681187FB406C9\t35.83073\t-85.97874\tTennessee\tArthur Adams\t239.41179\t0.392\t5\t0.397\t-7.828\tBack On Track\tnan\tSOJDBGF12A58A80D65\t226.847\t104.931\t4\t1.0\tNo Big Deal\t1999\t459298\nARDCVKU1187FB58F79\tnan\tnan\tDenver, CO\tSugarloaf\t72.98567\t0.0\t4\t0.475\t-20.277\tStereo\t0.0\tSOVTLSQ12AB01856CF\t67.454\t100.777\t5\t0.439\tMorfozis\t0\t79895\nARWXOQF1187B98C5E7\tnan\tnan\t\tCatie Curtis\t214.36036\t0.08\t8\t0.513\t-6.676\tMy Shirt Looks Good On You\t0.0\tSOELVXE12A6D4F8DA8\t197.677\t121.879\t4\t0.781\tNow (Album Version)\t2001\t234229\nARFCWWH1187B99DDFA\tnan\tnan\tCANADA - other\tSpiral Beach\t150.59546\t0.0\t0\t0.323\t-7.083\tBall\t0.436505066854\tSOOJZUB12A8C141502\t145.096\t106.184\t3\t1.0\tAstro Girls\t2007\t91835\nARSAIUN1187FB398D3\tnan\tnan\tEl Cerrito, CA\tCreedence Clearwater Revival\t152.45016\t0.304\t5\t0.132\t-6.766\tThe Complete Collection (Digital Box)\tnan\tSOBSSPT12A6D4FDC9D\t145.885\t105.237\t4\t0.0\tLookin' Out My Back Door\t1970\t243960\nAR6BIWA1187B9ABAE8\tnan\tnan\t\tJack Orsen & Taktlo$$\t218.17424\t0.113\t9\t0.527\t-12.751\tDirekt Aus Dem Knast (Du Spast)\tnan\tSOQKOMC12AB01899D6\t215.963\t116.054\t5\t0.8\tDas Was Du Hörst\t0\t232620\nARMCT8O1187B9B4E7E\t34.05349\t-118.24532\tCalifornia - LA\tPatsy Moore\t290.63791\t0.136\t9\t0.535\t-14.592\tThe Flower Child's Guide To Love And Fashion\tnan\tSOVWAEJ12AB01857F6\t281.24\t127.57\t4\t0.379\tThe State I'm In (Album Version)\t0\t165256\nAREWP0C1187B9B7B58\tnan\tnan\t\tLeo Marini\t149.05424\t0.0\t0\t0.73\t-7.877\tBoleros Leo Marini\tnan\tSOSMIML12A8C13ADA5\t149.054\t109.267\t4\t0.0\tPeregrina Sin Amor\t0\t112042\nARZ3R6M1187B9AF750\tnan\tnan\tGERMANY\tGabriel Le Mar\t440.21506\t0.078\t7\t0.435\t-7.793\tNightradio\t0.260338242567\tSOCEHDK12AB01803F4\t432.861\t108.011\t4\t0.522\tno.1 mantra feat. George DIN\t0\t724101\nARBE4ZQ1187B98A8F1\t34.09834\t-118.32674\tHollywood, California\tBarren Cross\t212.34893\t0.0\t0\t0.088\t-4.153\tAtomic Arena\t0.499318102189\tSOQQVOR12A6D4F819E\t208.742\t138.442\t3\t0.441\tKing Of Kings (Album Version)\t1988\t281115\nARUI7TW1187B990238\t34.05349\t-118.24532\tCalifornia - LA\tP.U.S.H.\t278.67383\t0.0\t6\t0.457\t-5.989\tP.u.s.h. Live Frat 07\tnan\tSOERIRJ12AB018046A\t273.014\t114.493\t4\t0.53\tAccusé à tort\t0\t679630\nARQT9SA1187B9AD3C7\tnan\tnan\tLos Angeles, CA\tSteely Dan\t269.60934\t0.139\t7\t0.292\t-14.401\tThe Very Best Of Steely Dan - Reelin' In The Years\t0.627785379788\tSOOLSLA12AB017FDFE\t256.325\t95.331\t1\t0.0\tPretzel Logic\t1974\t206813\nARLHB6B1187B9B1B14\t30.19034\t-82.63713\tLAKE CITY, Florida\tHaste The Day\t182.69995\t0.0\t3\t1.0\t-9.043\tDreamer\t0.748765571204\tSOFDWFR12A58A77D46\t165.773\t135.987\t4\t0.091\tAutumn\t2002\t249219\nAR3GZLR1187FB3D817\tnan\tnan\t\tBiffy Clyro\t207.882\t2.566\t5\t0.626\t-4.844\tLiving Is A Problem Because Everything Dies\t0.813746637543\tSOJOOTN12A6D4F6DF4\t205.305\t164.731\t4\t0.067\tLiving Is A Problem Because Everything Dies (Edit)\t2007\t--\nAR0AORI1187FB54663\t39.80105\t-89.6436\tSpringfield, il\tPound For Pound\t102.50404\t0.119\t0\t0.001\t-5.793\tPound For Pound\t0.0\tSORLCMQ12AB0186454\t96.444\t107.065\t4\t0.122\tReality Sucks\t0\t705136\nAR7SU131187B9AC383\tnan\tnan\t\tThe New Deal\t437.60281\t0.0\t1\t0.387\t-11.329\tLive: Late Night 8.27.05\t0.614677956705\tSOPZTEJ12AB0182340\t437.603\t0.0\t4\t0.881\tImprovised\t0\t722671\nAR8FNT11187B9B1139\t41.88415\t-87.63241\tChicago, IL\tKill Hannah\t216.11057\t0.133\t6\t0.0\t-3.353\tWake Up The Sleepers\t0.723459246599\tSOVNNZE12AB01883F9\t203.802\t91.006\t4\t0.44\tSnowblinded\t2009\t155904\nAR90AJX1187B99458D\t36.16778\t-86.77836\tNashville, TN\tSt. Louis Jimmy Oden\t193.25342\t0.432\t10\t0.118\t-22.009\tSt. Louis Jimmy Oden Vol. 1 1932-1944\t0.0\tSOWGBHP12A8C141BCD\t185.435\t80.977\t1\t0.0\tPoor Boy Blues\t0\t444170\nARLWZIL11EBCD76D7C\t35.83073\t-85.97874\tNashville, TN\tSarah Siskind\t234.16118\t0.0\t7\t0.398\t-6.384\tSay It Louder\t0.0\tSOVKCDN12A8C1446E6\t219.458\t168.035\t7\t0.563\tLone Tree\t2009\t--\nAR6H52E1187FB5AFBB\t37.98081\t-122.02519\tConcord, California\tCliffhanger\t695.77098\t7.581\t10\t0.413\t-11.859\tMirror Site\tnan\tSOUNRRB12AB018FE9B\t688.623\t124.794\t5\t0.929\tMirror Site (Part One)\t0\t224221\nARP56VS1187FB3B6D3\tnan\tnan\t\tRobert Forster\t297.58649\t0.0\t2\t0.586\t-15.968\tWarm Nights\tnan\tSOADSYC12A6D4FA658\t289.959\t133.245\t4\t0.166\tFortress\t1996\t144686\nARUTEVU1187B9ACAF9\t34.05349\t-118.24532\tNORTH FORT MYERS, Florida\tLifehouse\t265.37751\t0.281\t5\t0.476\t-6.03\tNo Name Face\t0.693642511518\tSOVRXWW12A6D4F74D3\t256.726\t144.936\t4\t0.996\tBreathing\t2000\t964738\nARXWTHC1187B9AAFB9\t53.79449\t-1.54658\tLeeds, England\tSisters Of Mercy\t182.85669\t0.09\t9\t0.083\t-11.187\tA Slight Case Of Overbombing\tnan\tSOKSUGX12AB017E9F0\t174.928\t169.892\t4\t0.0\tDoctor Jeep\t1990\t--\nARGS3TX1187FB5CB34\tnan\tnan\t\tSarah Chen\t202.23955\t0.531\t0\t0.958\t-10.313\tKou Qing De Gu Shi\tnan\tSOGKMZZ12A8C139516\t189.829\t92.346\t1\t0.516\tXING GUANG MAN TIAN\t0\t65469\nARL5YT21187FB4D3F9\tnan\tnan\tChicago, IL\tBad Boy Bill\t390.08608\t0.0\t9\t0.691\t-4.835\tFalling Anthem Part 1\t0.396905220066\tSOPYRII12AB0183669\t381.98\t127.955\t1\t0.0\tFalling Anthem (Hervé's We Are A Beautiful Disaster Remix)\t2009\t271852\nARHEQ501187FB4F898\tnan\tnan\t\tFruko Y Sus Tesos\t242.78159\t0.223\t8\t0.392\t-6.803\tSoy Como Soy\t0.349612588886\tSOBOYBL12A81C2194A\t237.534\t84.753\t7\t0.577\tLa Fruta Bomba\t2000\t167377\nARYT62X1187FB5962F\t44.04992\t-123.08854\tEUGENE, US\tGovi\t242.54649\t3.019\t1\t0.511\t-10.195\tMosaico\t0.487654405061\tSOEHYLH12A8C13859D\t232.931\t106.977\t4\t0.741\tCarousel\t2002\t809905\nARHS5PJ1187FB3C50D\tnan\tnan\tNew York\tCathedral\t496.66567\t0.0\t7\t0.4\t-5.995\tSerpents Gold\t0.304169503435\tSOGQDAZ12AC468E347\t482.4\t102.947\t4\t0.709\tHopkins (Witchfinder General)\t2004\t--\nAR4OQ8L1187FB47776\t41.88415\t-87.63241\tChicago, IL\tJoan Of Arc\t395.36281\t0.0\t0\t0.801\t-10.11\tLive In Muenster_ 2003\t0.407233014901\tSOAGJXP12A8C13FE3B\t365.767\t121.506\t4\t1.0\tHappy 1984 And 2001 (live)\t0\t607246\nARD62HY1187B99026C\tnan\tnan\t\tRoy Montgomery\t234.89261\t0.409\t7\t0.784\t-17.654\t324 E. 13th Street #7\t0.215080318509\tSOLKATV12A8C131B48\t218.987\t99.355\t3\t0.82\tGerman Sister\t1999\t734067\nARPISPJ1187FB3F3F8\tnan\tnan\t\tEdnita Nazario\t237.84444\t0.107\t4\t1.0\t-8.638\tApasionada\t0.0\tSOPQCXJ12AB0183B75\t223.045\t107.832\t4\t0.689\tPor Hoy\t2005\t515157\nARLLWWD1187FB5AE9B\tnan\tnan\t\tHTRK\t313.57342\t0.0\t7\t0.007\t-10.409\tHa / Panties\t0.600783787114\tSODFAIC12AB017E324\t301.476\t160.362\t4\t0.0\tHa\t2009\t393377\nARTQ1PA1187B9B7138\t46.05124\t14.50306\tLubljana, Slovenia\tUMEK\t489.22077\t2.334\t10\t0.034\t-9.91\tGatex EP\tnan\tSORWUZF12A58A7ECED\t482.017\t128.003\t4\t0.534\tGatex\t2001\t170197\nARX395D1187FB41D91\t64.11008\t-21.89294\tKópavogur, Iceland\tEmiliana Torrini\t239.98649\t0.454\t8\t0.0\t-16.699\tFisherman's Woman\t0.650405807903\tSOGGUYJ12B0B80BEA0\t212.097\t126.213\t3\t0.562\tLifesaver\t2004\t227534\nAR8JNE51187FB539B6\t33.78399\t-89.80985\tGrenada, MS\tMagic Sam\t128.65261\t5.497\t1\t0.591\t-32.458\tMagic Blues\tnan\tSOCDOOW12AB018E964\t128.653\t122.8\t4\t0.289\tE Street Boogie\t0\t510519\nARFTJ6P1187B98BC5E\tnan\tnan\t\tLes Yeux Noirs\t193.07057\t0.0\t11\t0.004\t-5.715\tBalamouk\t0.485122364102\tSOGFHRT12A6D4F947A\t189.864\t85.019\t4\t0.848\tCioara\t0\t--\nARQFCWO11F4C83D7C5\tnan\tnan\t\tJohnny & the Hurricanes\t144.19546\t0.125\t2\t0.407\t-13.639\tGreatest Hits\t0.0\tSOUKIPV12AB01899F6\t140.214\t105.64\t1\t0.304\tKaw-Liga\t0\t193715\nARDTPM51187FB5B488\t34.03339\t-118.1596\tEast L.A., California\tThee Midniters\t196.96281\t0.0\t4\t0.445\t-9.09\tIn Thee Midnite Hour!!!!\t0.346818921306\tSOEGKYF12AC468DCBD\t188.732\t85.033\t3\t1.0\tGloria\t2006\t704665\nARXQNF51187B98E533\t37.77916\t-122.42005\tCalifornia - SF\tThe Japonize Elephants\t222.06649\t0.0\t2\t0.641\t-7.464\tBob's Bacon Barn\tnan\tSOAPYIC12A67ADEB89\t216.276\t142.141\t4\t0.107\tRat's Ass\t1997\t934270\nARSPLZD11F4C83BC8C\tnan\tnan\t\tFranz Joseph Haydn\t58.38322\t0.38\t2\t0.763\t-27.801\tJoseph Haydn - The Seasons\tnan\tSOXVMJA12AB0180688\t52.111\t146.894\t5\t1.0\tDer Herbst: Rezitativ\t0\t350099\nAR8O7MV1187B9A31B6\tnan\tnan\t\tSilence 4\t346.14812\t0.0\t7\t0.885\t-9.668\tAo Vivo no Coliseu dos Recreios\tnan\tSOMWFXC12AB017D619\t339.847\t106.352\t4\t0.566\tAngel Song\t1998\t716194\nARVISIH1264D12FF82\tnan\tnan\t\tD'azoo at night\t406.54322\t0.0\t7\t0.002\t-11.66\tMotherfunk\tnan\tSOEUYJT12AB018396B\t387.471\t125.022\t4\t0.131\tMotherfunk\t0\t863392\nARZC8251187FB4E44D\tnan\tnan\t\tChristel Alsos\t304.09098\t0.311\t5\t0.652\t-14.1\tCohen - The Scandinavian Report\t0.690684582864\tSOMMDIK12A8C140641\t293.198\t90.442\t4\t0.84\tSuzanne\t2009\t998497\nARAVURF1187B9AA092\tnan\tnan\t\tShabazz The Disciple\t180.21832\t0.0\t0\t0.513\t-11.465\tThe Book of Shabazz (Hidden Scrollz)\tnan\tSOTRNQR12AC46899E3\t180.218\t100.319\t4\t0.774\t1st Annual Bootleg Music Awards\t2003\t515490\nARABDLL1187B9A6FD2\tnan\tnan\t\tPedro Suarez-Vertiz\t213.41995\t0.206\t6\t0.592\t-3.807\tPedro Suarez-Vertiz\t0.0\tSONWAMI12A8C13AD32\t202.733\t117.974\t4\t0.461\tNo llores más morena\t0\t302264\nARUDJJP11F4C842196\tnan\tnan\t\tGillie Da Kid\t323.44771\t0.0\t9\t0.579\t-8.348\tI Am Philly\t0.427582886208\tSOFJGGO12AC4687924\t309.11\t140.141\t4\t0.274\tWassup\t0\t939967\nARSEIY01187B9A881A\tnan\tnan\t\tCeephax\t54.7522\t0.0\t1\t0.078\t-8.539\tDrive Time\t0.0\tSOQRAAN12AB018830B\t50.12\t246.365\t7\t0.543\tPopquorn\t2009\t80511\nARK30AI1187FB3C777\t40.71455\t-74.00712\tNY - Upstate NY\tDive\t437.02812\t0.351\t5\t0.24\t-10.967\tDive\t0.0\tSOIHQXC12A8C139E87\t411.202\t115.995\t4\t1.0\tComing On Strong\t1994\t709984\nARI3QPI1187FB56686\tnan\tnan\t\tRedbong\t268.7473\t0.179\t2\t0.202\t-6.797\tDivisés (Pour mieux régner)\t0.0\tSOXKFTV12AB01889A8\t249.249\t124.052\t5\t1.0\tLa teigne\t2009\t318447\nARPBEYD1187FB52FD8\tnan\tnan\t\tMaurice Williams & The Zodiacs\t104.75057\t0.157\t1\t0.433\t-7.59\tStay: The Original \"Stay\" LP Plus Bonus Tracks\t0.247420056763\tSOIRWWW12AAF3B4B0C\t96.938\t146.03\t4\t0.608\tHere I Stand\t0\t579607\nAR9SKZV1187FB57E1D\t51.50632\t-0.12714\tLondon, UK \tThe Horrors\t248.60689\t0.316\t7\t0.35\t-8.13\tThe Horrors\t0.464173991674\tSOSCABC12A6D4F464A\t241.482\t96.371\t1\t0.023\tI Don't Need A Woman_ I Need A Nurse\t2006\t535207\nARQ6CIY1187B9A442B\tnan\tnan\t\tColoured Stone\t221.41342\t0.56\t2\t0.594\t-8.886\tBest Of Coloured Stone\t0.0\tSOBSOML12A8C1359A2\t216.973\t129.215\t4\t0.0\tLove Is The Medicine\t0\t801251\nAR7Y6JX1187FB4D9B3\tnan\tnan\tWashington, D.C.\tBad Brains\t237.81832\t0.0\t6\t0.135\t-12.567\tLive at CBGB 1982\t0.719919878108\tSOPHINT12AB0181435\t235.061\t136.563\t4\t0.172\tThe Meek\t1991\t88915\nARINXZA1187FB56902\tnan\tnan\t\tRemi Nicole\t216.34567\t0.0\t7\t0.612\t-8.446\tCupid Shoot Me\t0.270775998946\tSOXPPWC12AB0180F1B\t206.849\t72.753\t3\t0.854\tI'll Be Waiting\t2009\t195111\nARL1G0L1187FB4066D\t35.91463\t-79.05661\tChapel Hill, NC\tDoleful Lions\t78.94159\t0.154\t11\t0.849\t-6.79\tSong Cyclops Volume Two\tnan\tSOXRZGS12AB017F5A9\t72.255\t82.512\t4\t1.0\tXanex & Windsprints\t0\t292041\nARLP52R1187B9B9AD3\tnan\tnan\t\tLa Musicalité\t47.22893\t0.0\t4\t0.372\t-9.377\tEste juego\tnan\tSOYDYMG12A81C236AD\t47.229\t109.798\t1\t0.918\tCapela\t2005\t869463\nAR6Q39R1187FB52DDD\tnan\tnan\t\tPhinius Gage\t202.00444\t0.0\t1\t0.574\t-2.936\tThe Feeling Something's Wrong\tnan\tSOAHPLK12A8C141642\t196.818\t102.71\t4\t0.0\tSticks And Stones\t2007\t945414\nARVHW501187FB43587\tnan\tnan\t\tChristopher Just\t293.56363\t0.241\t1\t0.65\t-12.576\tRoland Flick Fairmont Princess #1527\t0.0\tSOFEVMM12A8C1378B7\t289.326\t121.062\t4\t1.0\tRoom 1527\t0\t65657\nARM2H9N1187B99E4EC\tnan\tnan\tBerlin, Germany\tRio Reiser\t206.44526\t0.537\t7\t0.682\t-11.146\tRio I.\t0.456949543537\tSOGQZBN12A8C136A80\t193.985\t135.26\t5\t0.881\tIch Leb Doch\t1986\t--\nARYPLX21187FB3657A\t45.51228\t-73.55439\tMontreal, Quebec, Canada\tThe Stills\t267.78077\t0.0\t9\t0.222\t-4.76\tLogic Will Break Your Heart\t0.0\tSOGFRQI12A670200ED\t255.983\t117.985\t4\t1.0\tOf Montreal (Album Version)\t2003\t--\nARZ4Y2H1187FB3C36F\tnan\tnan\t\tEstopa\t187.27138\t2.995\t2\t0.951\t-8.762\tAllenrok\tnan\tSOBEVQL12A8AE477FB\t173.389\t90.885\t4\t0.223\tEra (Bonus Track) (Maqueta)\t2008\t342140\nAR9LB2W1187FB4B3D7\t40.71455\t-74.00712\tNY - New York City\tBlack Tape For A Blue Girl\t249.05098\t0.0\t6\t0.424\t-7.983\t10 Neurotics\tnan\tSOMSFJV12AB01900B3\t242.167\t116.623\t4\t0.653\tInch Worm\t2009\t672743\nARRQIZR1187FB3AFC1\tnan\tnan\t\tFiorella Mannoia\t221.51791\t0.154\t0\t0.373\t-13.243\tFiorella Mannoia\tnan\tSODUTJO12A67020C32\t204.788\t117.237\t4\t0.695\tAtlantide Non Vedro\t0\t--\nARA42UV1187B9AE6D2\t34.05349\t-118.24532\tCalifornia - LA\tJeff Wayne\t452.88444\t0.072\t7\t0.301\t-13.916\tThe War Of The Worlds - ULLAdubULLA\tnan\tSOHNFZW12A8AE46F3F\t437.133\t137.939\t4\t0.218\tThe Eve Of The War\t0\t962284\nARQDOR81187FB3B06C\tnan\tnan\t\tThee Headcoatees\t163.76118\t0.177\t9\t0.57\t-11.688\tHave Love Will Travel\t0.266955186276\tSOLUKUL12A8C13EB6D\t159.782\t109.509\t4\t0.303\tSomething Went Wrong\t1992\t293811\nARTHQQG1269FCD0B99\tnan\tnan\t\tAlisia\t257.17506\t0.723\t9\t0.482\t-12.142\tFlame\tnan\tSODUNGQ12AB017DED9\t238.457\t105.073\t4\t1.0\tNemidunam\t0\t751791\nARC26I61187B9B8918\t53.41961\t-8.24055\tIRELAND\tOrla Fallon\t235.78077\t0.084\t2\t0.599\t-5.223\tDistant Shore\t0.425124658313\tSORRGJI12AB01894F5\t226.586\t146.935\t3\t0.927\tDancing In The Moonlight\t0\t239857\nAR6R1OA1187FB4D374\t55.8578\t-4.24251\tGlasgow, Scotland\tHowie B.\t257.82812\t13.137\t9\t0.005\t-18.303\tMusic For Babies\t0.379523324422\tSODMBTR12A6D4F7292\t244.965\t144.822\t4\t1.0\tHow To Sucki\n\n*** WARNING: max output size exceeded, skipping output. ***\n\nnan\tSOJFHYL12AB01856C9\t672.705\t121.903\t4\t0.915\tChannelhopper\t0\t55778\nARVP1TO1187B9A4A7A\tnan\tnan\tNew York, NY [The Bronx]\tLuther Vandross\t252.29016\t2.113\t2\t0.374\t-8.131\tThis Is Christmas\t0.704130089134\tSOOORJX12A8C12FC11\t232.983\t115.969\t5\t0.508\tA Kiss For Christmas\t1995\t42275\nARJ0A911187FB4FFAB\t38.00335\t-79.77127\tVA\tPedestrian\t311.90159\t0.0\t1\t0.338\t-10.497\tThe Toss & Turn\t0.0\tSOBNEON12A8C13340A\t303.415\t70.416\t7\t0.86\tResurrection Morning Sermon (Evangelist J.B. Best)\t2004\t188581\nARXWAQQ1187B9AE954\tnan\tnan\tNewark, NJ\tRedman / Method Man\t252.76036\t0.096\t7\t0.384\t-9.418\tDoc's Da Name 2000\t0.579358162916\tSODUMNJ12A6D4FB883\t240.774\t132.847\t5\t1.0\tWell All Rite Cha\t1998\t452411\nARBUHDB1187FB3E72C\t46.87591\t-96.78176\tFargo, ND\tBobby Vee\t138.94485\t0.363\t10\t0.0\t-7.525\tThe Singles Collection\t0.265861049211\tSOGJQFC12A6D4FAE94\t132.551\t102.054\t3\t0.458\tPretend You Don't See Her\t0\t861009\nARVSF1H1187B98C04E\tnan\tnan\t\t2K\t428.64281\t0.0\t0\t0.803\t-11.885\tUrban Industrial Jazz\tnan\tSOUAKIT12AB01850E0\t428.643\t149.834\t7\t0.0\tMaxwell Street\t0\t886060\nAR0D7CF1187FB52D27\t34.05349\t-118.24532\tLos Angeles, CA\tA Taste Of Honey\t295.31383\t0.459\t4\t0.0\t-5.541\tTwice As Sweet\t0.269502972215\tSOSDLNP12A6D4F75E3\t292.206\t126.311\t4\t0.2\tAin't Nothin' But A Party (Digitally Remastered 99)\t0\t--\nARVQV7Q1187FB59C5D\tnan\tnan\t\tLittle Angels\t212.03546\t0.148\t0\t0.201\t-6.202\tLittle Of The Past\t0.385271315886\tSOTYOVZ12AAF3B4953\t208.422\t132.017\t4\t0.298\tNinety In The Shade\t0\t625014\nARUWZCX1269FCD1145\tnan\tnan\t\tAly\t426.50077\t0.0\t8\t0.369\t-4.373\tA State Of Trance Radio Top 15 - October 2009\tnan\tSOEBCMK12A8C140EE6\t416.56\t140.029\t1\t0.0\tThis Late Stage\t0\t477698\nARFI4BM1187B9A73BE\tnan\tnan\t\tMonsieur Blumenberg\t197.11955\t0.34\t7\t0.715\t-10.215\tMusique Et Couleurs\t0.345802233965\tSOMECBH12A8C139615\t193.678\t123.674\t4\t1.0\tEscamotage\t0\t972700\nARM7OPZ1187B9B109E\tnan\tnan\t\tBatdorf & Rodney\t191.55546\t0.816\t8\t0.351\t-9.392\tJohn & Mark\t0.0\tSOFLMYA12AB01852A6\t189.214\t121.426\t4\t0.33\tAnd She's Mine\t0\t168540\nARM9Q581187B98E984\t25.7167\t-103.2833\tMonterrey, Nuevo León, México\tKinky\t187.53261\t0.159\t7\t0.314\t-3.627\tReina\t0.556549947947\tSOXZVMA12A8C13E168\t183.316\t91.973\t7\t1.0\tSpin That Wine\t2006\t416602\nARLAVYX1187B99FC61\t34.05349\t-118.24532\tLos Angeles, CA\tThe God Awfuls\t184.97261\t0.0\t2\t0.865\t-5.111\tNext Stop Armageddon\t0.266955186276\tSORWHTG12A58A7B9DE\t179.897\t178.457\t3\t0.505\tN.R.A.\t2004\t858659\nARBJ3VU1187B9B472D\tnan\tnan\t\tLove Of Lesbian\t388.41424\t0.722\t5\t0.59\t-13.892\t1999\t0.49783321457\tSOHXFKF12AB018364C\t350.157\t118.03\t4\t1.0\t2009. Voy a romper las ventanas\t2009\t457512\nARCE5EI1187B9A6AC4\tnan\tnan\t\tDespe E Siga\t218.90567\t0.0\t9\t0.706\t-7.881\tA Cantar Con Xabarin Vol. III E IV\t0.0\tSOALSTW12AC4688952\t212.236\t177.04\t4\t0.557\tAstro Da Bola\t0\t477268\nARIP3H01187B98D80B\t34.05349\t-118.24532\tCalifornia - LA\tZane\t246.49098\t0.172\t1\t0.909\t-2.76\tThe Big Zane Theory\tnan\tSOOKQCO12A6D4F666C\t242.126\t184.146\t4\t0.556\tAll $ Ain't Good $\t0\t253706\nAR0W7561187FB57131\tnan\tnan\t\tArmin van Buuren\t452.88444\t0.787\t0\t0.821\t-7.085\tImagine - The Remixes\t0.488311590975\tSOHWGZJ12A8C140EEB\t446.241\t139.999\t4\t0.026\tHold On To Me\t0\t368014\nARFWM3211A348EFEBA\tnan\tnan\t\tGideon Smith and the Dixie Damned\t223.18975\t0.0\t4\t0.0\t-4.391\tSouth Side of the Moon\t0.0\tSOAIVGE12AB017FDA9\t218.668\t115.051\t3\t1.0\tMy Darling Black Rose\t0\t910168\nAREXX3T1187B989950\t38.8991\t-77.029\tWashington\tScott Krippayne\t245.2371\t0.177\t11\t0.352\t-10.377\tMore\t0.25608435525\tSOZOEZZ12A8AE47E31\t216.584\t133.59\t4\t0.579\tYou Changed The World (LP Version)\t0\t738020\nARH4HHM1187FB3A65C\tnan\tnan\t\tBob Crosby and the Bobcats\t148.92363\t0.189\t0\t0.6\t-18.15\tBob Crosby and the Bobcats: The Complete Standard Transcriptions\tnan\tSOLYWDB12A8C1371F2\t142.483\t65.99\t5\t0.742\tLet\u0019s Go Around Together\t0\t781149\nAR8QW7Y119B866993A\tnan\tnan\t\tOztara\t362.81424\t0.0\t6\t0.685\t-7.89\tEnsorsoleil\tnan\tSOVGZKQ12AB017C282\t354.876\t95.976\t4\t0.5\tLes Fous\t2005\t--\nARQ9O2A1187B9B26E2\tnan\tnan\t\tKellys\t171.44118\t0.241\t7\t0.123\t-6.563\tGuldkorn\tnan\tSOWRPIQ12A8C139A8D\t166.458\t154.258\t5\t0.303\tSju ensamma kvällar (Seven Lonely Days)\t0\t477187\nARFG12O1187B9AF5D6\t40.8079\t-73.9454\tHarlem, New York City, NY\tFreddie Jackson\t207.72526\t0.0\t11\t0.378\t-6.547\tPersonal Reflections\t0.0\tSOZCOTB12AB017EE54\t199.065\t112.48\t4\t1.0\tI'll Be Around\t2005\t509660\nARM4HO61187FB50C68\tnan\tnan\t\tEdward Johnson\t191.29424\t2.525\t4\t0.569\t-17.772\tLes Grandes Voix Du Canada vol. 2 (Great Voices of Canada)\tnan\tSOHTZDM12A6D4F562E\t182.683\t100.846\t7\t0.835\tColleen O'Mine (Terrence O'Shea-Lily Strickland)\t0\t94351\nARBERV711A348F0125\tnan\tnan\t\tEctoplasma\t208.50893\t0.0\t7\t0.599\t-4.129\tAmor por lo Paranormal\t0.0\tSOWNLTM12AB0180DC0\t208.509\t160.034\t4\t0.638\tSuperhéroe en paro\t0\t831583\nART1YIY1187B9A1D67\t53.04702\t8.62929\tDelmenhorst, Germany\tTim Fischer\t240.24771\t0.543\t0\t0.723\t-21.327\tNa so was\t0.0\tSOCXBME12AB018A5B1\t234.475\t99.032\t3\t0.868\tHeiraten\t1995\t295221\nARDL94Q1187FB3B6AF\tnan\tnan\t\tMortal Love\t373.44608\t5.207\t3\t0.54\t-7.629\tAll The Beauty\t0.721804924711\tSOCFAJL12AB018ACD9\t370.985\t111.952\t4\t0.083\tAll The Beauty\t2002\t771681\nARODP5P1187FB40142\tnan\tnan\t\tEddie Cano\t172.01587\t0.0\t7\t0.579\t-11.361\tHere is Fabulous Eddie Cano\tnan\tSORQEQL12AB01889B1\t164.188\t127.897\t4\t0.053\tI'll Remember April  (Album Version)\t0\t636539\nAR3Z3U71187FB36BD1\t49.89942\t-97.14074\tWinnipeg, CA\tChristine Fellows\t153.25995\t0.0\t1\t0.852\t-5.479\tNevertheless\t0.417641647597\tSOUANCN12AB0184255\t146.437\t127.499\t1\t0.0\tNevertheless\t2007\t322363\nARNDMU21187B99F390\tnan\tnan\t\tSoulsister\t242.36363\t0.311\t11\t0.553\t-5.782\tSwinging Like Big Dogs\t0.375808388517\tSOBGRAB12A6D4F8016\t227.358\t135.941\t4\t0.342\tTell Me What It Takes\t1994\t--\nAR3752L1187FB4B67E\tnan\tnan\t\tThe Real Kids\t177.55383\t0.241\t11\t0.609\t-6.636\tNo Place Fast\t0.0\tSOSZGGL12A8C132ADF\t171.654\t186.811\t4\t1.0\tIt's Been Real\t0\t336242\nARTN3HU1187FB4CF68\t37.77916\t-122.42005\tSan Francisco, CA\tAmerican Music Club\t263.20934\t0.438\t11\t0.611\t-16.286\tSan Francisco\tnan\tSOSZDHP12A6701F71D\t250.102\t125.496\t5\t0.884\tLove Doesn't Belong To Anyone\t1994\t498058\nARU0MWG1187FB53477\tnan\tnan\t\tDean Geyer\t191.03302\t0.299\t10\t0.702\t-3.217\tRush\tnan\tSOJDJRL12AB018B571\t185.051\t113.969\t4\t0.46\tOne Of A Kind\t2007\t628809\nARJSUQI1187FB5727D\t59.33217\t18.06243\tStockholm, Sweden\tCarola\t232.77669\t0.645\t4\t0.639\t-7.885\tSteg För Steg\t0.505025446262\tSOASSIF12A8C140360\t216.439\t123.436\t4\t0.448\tTommy tycker om mig\t0\t631693\nAR8FG3T1187FB4E58F\tnan\tnan\t\tHoda\t220.65587\t0.0\t0\t0.381\t-11.192\tSha'bi Chic\tnan\tSOUGLRU12A8C134046\t218.122\t140.505\t4\t0.148\tAshoufak Uyoum\t0\t994972\nAR06IFV1187B9977EC\tnan\tnan\tSt. Louis, MO\tMU330\t132.57098\t0.287\t11\t0.515\t-4.466\tUltra Panic\tnan\tSOKHBVR12A8C136A55\t127.646\t116.509\t4\t1.0\tThese Rocks Have Energy\t2002\t371532\nARCZC791187B991DF4\tnan\tnan\tStockton, California\tChris Isaak\t189.6224\t0.812\t4\t0.493\t-8.519\tSan Francisco Days\t0.492713639573\tSORTKLP12A8C13965C\t186.52\t92.149\t4\t0.49\tLonely With A Broken Heart (LP Version)\t1993\t415474\nARP4S6O1187FB55D87\tnan\tnan\tNevada\tBrian Regan\t32.522\t0.0\t0\t0.0\t-15.446\tBrian Regan Live\t0.577888777843\tSOAFRDV12A6D4FD22E\t32.522\t82.418\t4\t0.66\tBlasting Zone\t1997\t706871\nARB9ZQ21187B9941EE\tnan\tnan\t\tBlind Joe Taggart\t173.94893\t0.409\t4\t0.0\t-17.661\tBlind Joe Taggart Vol. 1 (1926-1928)\tnan\tSOFWYLA12A8C13EB08\t168.333\t104.546\t4\t0.0\tI'll Be Satisfied (-49)\t0\t--\nAR93ZCZ1187FB4409A\tnan\tnan\t\tCara Dillon\t268.01587\t0.891\t7\t0.799\t-17.023\tAfter The Morning\t0.589698295696\tSOXFJXH12A8C140DDB\t255.205\t105.796\t4\t0.181\tThe Streets Of Derry\t2006\t740454\nARBRIVS11F4C83E2F9\tnan\tnan\t\tZeros\t91.97669\t0.216\t11\t0.553\t-6.262\tRight Now!\t0.0\tSOZEOTR12AB01879FC\t83.812\t183.796\t3\t0.0\tSneakin' Out\t0\t227585\nARHYULJ1187B9A8537\t53.95333\t-1.08342\tYork, England\tRicardo Havenstein\t215.77098\t0.218\t9\t0.0\t-23.476\tQuasi una Fantasia\tnan\tSOGUIGE12A8AE463D0\t196.615\t145.599\t1\t0.0\tStändchen\t0\t303932\nAREN4UR1187B991859\tnan\tnan\t\tIntenso\t195.47383\t0.194\t8\t0.482\t-11.452\tInolvidable\t0.234866289857\tSORZNLS12A58A7ED5C\t187.368\t97.965\t1\t0.0\tDame Una Oportunidad\t0\t29243\nARTRQUJ1187B992ADD\tnan\tnan\t\tGraham Central Station\t234.81424\t0.473\t5\t0.293\t-12.53\tNow Do U Wanta Dance\t0.0\tSOURQAJ12AB0190125\t230.731\t79.923\t4\t0.0\tLead Me On\t1977\t341956\nAR90DAI1187B9A4AE9\tnan\tnan\t\tJoe Maphis\t110.78485\t0.0\t0\t0.812\t-7.661\tThe Complete Twelve String Story\tnan\tSORNTFM12A8BED02BC\t101.825\t123.436\t4\t0.21\tMaggie\t0\t122322\nARHMLUH11A348F0B1A\tnan\tnan\t\tPaper Rival\t155.74159\t0.0\t8\t0.699\t-3.2\tThieves\t0.36748936512\tSONKBNW12A8C13BC61\t150.814\t85.76\t4\t0.619\tLove You Dead (Thieves Version)\t0\t985726\nARIN4JT1187B992EB5\t40.76099\t-74.20991\tEast Orange, NJ\tJohn Mooney\t172.5122\t0.409\t2\t0.532\t-9.986\tGone To Hell\tnan\tSOBCBKF12A6D4FC903\t162.604\t172.683\t4\t0.0\tIndian Lea\t0\t--\nAR5IVS81187B98D0F0\tnan\tnan\t\tD*Note\t227.76118\t1.002\t1\t0.143\t-7.489\tThe Garden of Earthly Delights\tnan\tSOLCPQU12A8C141A14\t214.129\t121.984\t4\t0.68\tGarden Of Earthly Delights (X-Press 2 Remix)\t1995\t221573\nARMSIFW11EBCD7AFE0\tnan\tnan\t\tFrancisca Valenzuela\t233.01179\t0.165\t0\t0.846\t-6.234\tMuérdete La Lengua\t0.610695322188\tSOOMGKX12AB01856FF\t221.176\t102.213\t4\t0.825\tPeces\t2007\t740411\nARINEWT1187FB53943\tnan\tnan\t\tLes Thugs\t298.89261\t0.0\t2\t0.626\t-6.646\tAs Happy As Possible\t0.304169503435\tSOUEYXY12A8C12FDD2\t284.195\t110.805\t3\t1.0\tDesert Days (Album)\t0\t446482\nAR2PXBU1187FB5BB30\t53.50807\t-8.42945\tNewbridge, Ireland\tLuka Bloom\t245.36771\t0.0\t11\t0.78\t-15.767\tTurf\t0.274606699348\tSOFSGDU12A8C144F3B\t228.775\t117.74\t1\t0.0\tCold Comfort (LP Version)\t1994\t--\nARGR4QF1187B99350A\t40.65507\t-73.94888\tBrooklyn, NY\tMost Precious Blood\t276.08771\t0.0\t5\t0.013\t-8.6\tMerciless\t0.636287224427\tSOFNDNW12AB018DCE8\t276.088\t90.861\t4\t0.975\tDriving Angry\t2005\t93279\nARESRRQ1187FB42124\tnan\tnan\t\tPeterLicht\t375.77098\t0.136\t11\t0.0\t-9.468\tStratosphärenlieder\t0.505487343149\tSOICADW12A8C13D9AE\t368.698\t111.93\t4\t0.928\tMorgenlied\t2003\t811507\nARMURGE12509416B0D\tnan\tnan\t\tTwenty 4 Seven & Captain Hollywood\t273.71057\t0.598\t1\t0.399\t-13.702\tStreet Moves\t0.0\tSOPULLF12AB0180F56\t267.883\t213.981\t4\t0.738\tLiving In The Jungle\t0\t210299\nARHUKTS11EBCD7C3AE\t40.71455\t-74.00712\tNY - New York City\tSolade\t226.92526\t0.0\t9\t0.467\t-7.287\tBoro Song\t0.0\tSOUYCMS12A6D223C54\t219.957\t130.65\t5\t0.895\tCool Honey\t0\t895801\nARACNPB1271F573BAC\tnan\tnan\t\tTom And Susan Wasinger\t196.46649\t3.344\t9\t0.552\t-22.812\tThe World Sings Goodnight\t0.0\tSOBXWPQ12AAA15D98F\t181.4\t35.359\t1\t0.0\tU.S.A. (World)\t0\t--\nARV37J61187FB41923\tnan\tnan\t\tElmore James\t199.65342\t0.0\t9\t0.595\t-16.344\tPioneers of Slide Guitar - Elmore James & Muddy Waters\tnan\tSONRJTY12A6D4FC456\t187.089\t106.88\t4\t0.485\tI Believe\t1995\t964499\nARCKHQ31187FB4A58D\t40.65507\t-73.94888\tBrooklyn, NY\tToots Thielemans / Kenny Werner\t243.40853\t3.059\t4\t0.498\t-12.585\tToots Thielemans & Kenny  Werner\t0.0\tSOYEJNQ12A58A80812\t223.811\t86.706\t5\t0.991\tInspiration\t0\t107995\nAR7E5B11187B994F38\t39.07245\t21.84556\tGreece\tNomansland\t207.62077\t0.0\t9\t0.402\t-7.139\tSoul Out There\tnan\tSOALTFY12AB0188D5C\t201.004\t139.944\t4\t0.0\tSoul Out There\t2006\t341648\nAR5F8B11187FB42B01\t39.73926\t-89.50409\tIllinois\tFormer Fat Boys\t252.73424\t0.0\t2\t0.387\t-9.448\tRocky Loves Emily - Kick Back Remastered Edition\tnan\tSOQLHPJ12AB0182AC4\t247.879\t79.327\t5\t0.727\tIce Ice Baby (Ben Folds Remix)\t0\t820016\nAR77FBJ1187FB49D8D\t42.33168\t-83.04792\tDetroit, MI\tRance Allen Group\t244.32281\t0.339\t7\t0.533\t-11.032\tStax Profiles - Rance Allen\tnan\tSOYGZPC12A6D4F6EBB\t235.781\t92.01\t1\t0.546\tUp Above My Head\t0\t--\nARY3C411187B98C88D\tnan\tnan\t\tThe Bollock Brothers\t152.65914\t0.322\t9\t0.76\t-11.89\tThe Bollock Brothers' Count Dracula Where's Your Trousers\tnan\tSOOWBEM12A58A7DD3D\t147.783\t142.055\t4\t0.0\tCount Dracula Where's Your Trousers - Live\t0\t126229\nARKXU2N1187B9B9FA0\tnan\tnan\t\t3-11 Porter\t203.88526\t0.328\t5\t0.27\t-10.029\tSurround Me With Your Love 2008\t0.456949543537\tSODNJER12A81C21FC3\t189.127\t104.026\t4\t0.828\tSurround Me With Your Love\t2003\t679005\nARWLUAI11F4C840637\tnan\tnan\t\tJeanne Robertson\t120.16281\t0.0\t10\t0.023\t-10.808\tFlat Out Funny - at the Paramount\tnan\tSOHSJRV12AC4687B87\t120.163\t71.348\t5\t0.567\tA grandmother makes it \"even\t0\t341298\nARJM1XC1187B9A8270\t40.71455\t-74.00712\tNew York, NY\tRam Jam\t214.77832\t0.281\t1\t0.631\t-11.137\tThe Very Best Of Ram Jam\tnan\tSOYLPFY12A58A7BC83\t205.589\t137.648\t1\t0.0\tKeep Your Hands On The Wheel\t1977\t223458\nARZNKPJ11F50C4C06B\tnan\tnan\tArizona\tTammy Patrick\t204.9824\t0.409\t7\t0.522\t-9.917\tThe White Album\t0.0\tSOYFXOP12A58A80143\t197.677\t163.894\t1\t0.0\tBilly West\t0\t30340\nAR6BKNZ1187B993CBA\t27.63885\t-80.39422\tVero Beach, FL\tDiscount\t118.30812\t0.189\t7\t0.429\t-6.974\tAtaxia's Alright Tonight\t0.417641647597\tSODCELP12A8C13F7DB\t109.273\t128.081\t5\t0.305\tEverybody Everybody\t1996\t575998\nAR48EZ81187FB4D106\t51.50632\t-0.12714\tLondon, England\tA.R. Kane\t205.26975\t0.201\t7\t0.879\t-13.913\tNew Clear Child\t0.313562114248\tSODFBQW12A8C13CEF1\t200.231\t110.03\t4\t1.0\tGrace\t0\t61660\nARJEVYN1187FB545DE\t34.05349\t-118.24532\tCalifornia - LA\tHiromitsu Agatsuma\t499.22567\t0.596\t8\t0.805\t-15.586\tEn\t0.345802233965\tSOWRSEI12A81C21CB6\t479.208\t90.591\t4\t0.73\tMogamigawa Funauta\t0\t438655\nARI4OCZ1187FB4488B\tnan\tnan\t\tCosmic Gate ft. Jan Johnston\t217.83465\t6.118\t9\t0.73\t-8.189\tI Feel Wonderful\tnan\tSOKCGDP12AC90975A1\t199.349\t140.173\t4\t1.0\tI Feel Wonderful\t2005\t384470\nARQZ97U1187FB3EE1A\tnan\tnan\t\tBodyrockers\t192.57424\t0.192\t2\t0.1\t-4.964\tBodyrockers\t0.513189736126\tSOAUXXN12A67020748\t187.931\t90.666\t3\t1.0\tKeep Your Boots On\t2005\t932579\nAR4JV7B1187B99AA15\tnan\tnan\t\tConjunto Chaney\t328.09751\t0.398\t2\t0.58\t-10.309\tLa Escuela de la Salsa\t0.35897652644\tSOENDMD12A8C133D8D\t321.916\t173.634\t4\t0.454\tEstoy De Vuelta\t0\t324745\nARMEARN1187FB47D15\t54.31407\t-2.23001\tUK\tEclection\t298.03057\t0.0\t11\t1.0\t-9.674\tEclection\t0.188274316329\tSOJJJSU12A58A789AA\t283.667\t89.394\t1\t0.0\tSt. Georg & The Dragon (Up The Night) (LP Version)\t1968\t13680\nARCII0J1187FB3A1B4\t40.71455\t-74.00712\tNew York City, New York\tThe Marx Brothers\t501.49832\t0.183\t7\t0.493\t-18.878\tEMI Comedy - The Marx Brothers\t0.233851467837\tSOOBRDZ12A6D4FB630\t496.001\t109.765\t1\t0.0\tChico Plays On Bob's Show\t0\t795658\nARYBNFR1269FCCF16A\tnan\tnan\t\tThe Thousand Dollar Playboys\t276.40118\t0.34\t7\t0.75\t-4.843\tStay!\tnan\tSONYCMD12AC3DF4A92\t269.34\t91.681\t4\t0.535\tBorrowed Money Blues\t0\t389511\nARJK7JU1187FB4C3F3\tnan\tnan\tEngland\tSimian Mobile Disco\t507.55873\t0.086\t11\t0.051\t-14.528\tHustler\tnan\tSOVKTGF12A8C13E5EF\t498.921\t126.974\t3\t0.04\tHustler\t2006\t21246\nARM89GR1187FB53A3B\tnan\tnan\t\tSoulphiction\t191.08526\t0.067\t7\t0.489\t-12.666\tDo You Overstand?!\t0.575056050109\tSOGEOYI12A8AE4742D\t179.241\t114.02\t4\t0.673\tGhana Wadada feat. Phlegmatic\t2008\t736659\nARW0IWM1187B99142E\t40.71455\t-74.00712\tNY - New York City\tArturo Sandoval / Monica Mancini\t324.38812\t0.089\t2\t0.631\t-12.511\tA Time For Love\t0.376169924841\tSOEDTQF12AB0189B41\t315.188\t158.524\t4\t0.174\tOblivion (How to Say Goodbye)\t0\t215349\nARKZXSQ1187B9AC9F3\tnan\tnan\t\tJoy Division\t218.56608\t0.0\t2\t0.656\t-12.941\tStill [Collector's Edition]\t0.447135796286\tSONRCXL12A8C13ABE3\t200.632\t162.394\t4\t0.0\tDigital [Live at Birmingham University] [2007 Re-mastered]\t0\t664523\nAR650PG1187FB4CE3A\tnan\tnan\tLondon, England\tAqualung\t232.30649\t0.0\t4\t0.591\t-12.667\tIf I Fall/Live at the Scala\tnan\tSODKPXB12A6D4F9A9F\t224.177\t111.848\t3\t0.572\tCan't Get You Out Of My Mind (Live)\t0\t873745\nAR02IU11187FB513F2\tnan\tnan\tNew York, NY\tTito Puente\t295.05261\t1.017\t7\t0.444\t-12.469\tMambo Diablo\t0.349166902125\tSOJZTXJ12AB01845FB\t288.055\t88.384\t4\t0.284\tChina\t1972\t455333\nARQ3KJV1187B9908CF\tnan\tnan\t\tMoqui Marbles\t225.74975\t2.293\t10\t0.153\t-6.437\tDas Teredeum\t0.299877488274\tSOZQWUN12A8C13C02E\t221.832\t99.071\t4\t0.75\tEinfach weg\t2003\t331428\nARIVMDJ11F4C843C8E\tnan\tnan\t\tBodhisattva 13:20\t522.00444\t0.0\t4\t0.44\t-9.412\tIntermittent Memories\t0.382935090075\tSOXATOU12AB018F68C\t499.537\t80.003\t1\t0.3\tRenewal Chant\t0\t131890\nARTDOAL1187FB38168\tnan\tnan\t\tFred Åkerström\t245.86404\t8.348\t0\t0.611\t-18.055\tDagsedlar åt kapitalismen\tnan\tSOUAXWH12A6701E891\t239.792\t129.952\t1\t0.645\tBalladen om bror Lundbom\t1967\t677659\nAR9TJKD1187B990125\t34.05349\t-118.24532\tLondon, England\tRiff Raff\t263.67955\t2.038\t9\t0.562\t-3.124\tRock n Roll Mutation Vol.I\t0.0\tSOYUNMY12A6D4FCA94\t263.68\t131.984\t4\t0.725\tSuper Trouper\t0\t191562\nARH08K21187FB4EF85\tnan\tnan\t\tJan Garbarek_ Rainer Brüninghaus_ Yuri Daniel_ Manu Katché\t556.61669\t10.548\t9\t0.249\t-17.88\tDresden - In Concert\t0.413626493376\tSOMPCFG12AB018054C\t550.859\t95.209\t3\t0.933\tHeitor\t2009\t543192\nAR1JD6E1187FB5696C\t53.07516\t8.80466\tBremen, Germany\tJames Last\t227.94404\t3.901\t0\t0.708\t-10.242\tJames Last And Friends\t0.239629097774\tSOFEYIV12A6D4FAC9A\t215.754\t84.001\t1\t0.979\tSummer Rain\t1998\t770995\nARD6NTO1187B994ED1\tnan\tnan\tPiapot Reserve, Saskatchewan, Can\tBuffy Sainte-Marie\t83.82649\t0.305\t11\t0.151\t-21.042\tIt'S My Way\t0.215080318509\tSOQEXPU12AB01839AC\t75.157\t81.845\t5\t0.368\tMayoo Sto Hoon\t1964\t756422\nAR46FFM1187FB5CCD1\tnan\tnan\t\tCarey Bell_ Lurrie Bell\t242.85995\t0.171\t1\t0.235\t-8.526\tHarpslinger\tnan\tSOFHEWZ12A8AE477D0\t237.9\t116.808\t4\t0.877\tI'm Your 44 (Alternative)\t0\t737201\nARBNG2Q1187FB55F43\tnan\tnan\t\tOtto Dix\t233.09016\t2.624\t1\t0.042\t-5.243\tStarost\t0.489038209173\tSOBDSLX12A8C136229\t224.926\t81.996\t4\t0.61\tWhite Dust\t2008\t638692\nARCY1Q01187B992E68\t41.88415\t-87.63241\tChicago, IL\tLou Pride\t201.74322\t0.479\t0\t0.048\t-7.265\tI Won't Give Up\t0.0\tSOMAAAB12A8C13A301\t192.824\t117.089\t1\t0.0\tMighty Big Shoes To Fill\t0\t285423\nARUBDQW1187B98D775\tnan\tnan\t\tKim English\t476.15955\t0.0\t0\t0.652\t-9.327\tLearn To Luv\tnan\tSOPRUDX12AB0183E97\t445.324\t124.985\t4\t0.955\tLearn To Luv (83 West Vox)\t0\t828215\nARHMYE81187FB52267\tnan\tnan\tRhode Island\tCharlie Hunter\t370.93832\t0.515\t11\t0.458\t-13.386\tSteady Groovin'\tnan\tSOQEBQM12A6D4F7D06\t358.922\t107.923\t4\t0.96\tEnter The Dragon\t2005\t749469\nARR2BHS1187B9B8FA7\tnan\tnan\t\tMinnie Riperton\t229.17179\t0.0\t7\t0.575\t-8.07\tStay In Love/Minnie\t0.0\tSOIFWQA12A6701F3EF\t217.089\t101.583\t4\t0.877\tOh Darlin'...Life Goes On\t0\t708141\nARCM3XF1187B9A9A0C\tnan\tnan\t\tFlaminio Maphia\t288.07791\t0.0\t6\t0.492\t-8.608\tResurrezione\tnan\tSODZZBP12A8C13677F\t280.776\t95.003\t4\t1.0\tTony E Dino\t2001\t841674\nARDW23C1187FB39DDD\t40.71455\t-74.00712\tNew York\tCause For Alarm\t91.34975\t0.189\t0\t0.497\t-5.544\tNothing Ever Dies\tnan\tSONDZOY12A8C1320FE\t89.118\t175.153\t4\t0.0\tUnited Races (Album Version)\t0\t862368\nARUPJNH1187B992F7A\tnan\tnan\t\tI Corvi\t230.79138\t0.194\t7\t1.0\t-7.289\tRicetta Antirughe\tnan\tSOIKFIM12A58A7AEAC\t221.048\t86.033\t4\t0.863\tSilvia's Mother\t2005\t359879\nARRMQ711187B9B7CD7\tnan\tnan\tSan Francisco, CA\tSun Kil Moon\t256.46975\t1.131\t5\t1.0\t-15.181\tGhosts Of The Great Highway\t0.82129258212\tSOGOTLO12AB0182C88\t245.632\t160.561\t4\t0.257\tGlen Tipton\t2003\t571973\nAROPMBS1187FB42F35\tnan\tnan\t\tHelena Noguerra / Federico Pellegrini\t203.44118\t0.11\t7\t0.453\t-11.732\tDillinger Girl And Baby Face Nelson\tnan\tSOZWAVR12A67AE0E06\t196.383\t172.282\t4\t0.0\tChanges\t0\t620702\nARRZZGC1187B993590\t42.50382\t12.57347\tPiedmonte, Italy\tGianmaria Testa\t230.81751\t5.335\t11\t0.134\t-17.094\tAltre Latitudini\t0.377531644977\tSOFJZAB12A58A77B54\t210.21\t69.276\t5\t0.604\tCome di pioggia\t2003\t451181\nARHB1961187B9B1732\t34.05349\t-118.24532\tCalifornia - LA\tKofi\t272.29995\t0.189\t9\t0.257\t-14.884\tBlack ... With Sugar\t0.237821380305\tSOQMRMX12A6D4FB9C4\t263.628\t156.958\t4\t0.689\tReggae Starship\t0\t472616\nARALUUG1187FB58696\t30.43883\t-90.44116\tPonchatoula, LA\tIrma Thomas / Norah Jones\t201.22077\t0.113\t0\t0.392\t-11.953\tSimply Grand\t0.405115721691\tSOGCKNK12A58A7A8DB\t190.369\t131.191\t4\t0.0\tThinking About You\t2008\t--\nARUTEVU1187B9ACAF9\t34.05349\t-118.24532\tNORTH FORT MYERS, Florida\tLifehouse\t204.93016\t3.373\t8\t0.474\t-5.65\tSmoke & Mirrors\t0.664690292931\tSODKXEJ12AB0186A2E\t200.168\t178.637\t4\t0.608\tIn Your Skin\t2010\t980412\nARDVIOR1187B99BD69\tnan\tnan\tEngland\tBaker Gurvitz Army\t372.84526\t0.0\t2\t0.571\t-7.746\tLive In Derby '75\t0.0\tSOARKZV12A8C1349B1\t369.708\t126.721\t3\t0.875\tThe Artist\t0\t83563\nARX5FH61187FB45B63\tnan\tnan\t\tSon Of A Plumber\t63.65995\t0.276\t0\t0.503\t-17.248\tSon Of A Plumber\tnan\tSOYCRWJ12A8C13665C\t63.66\t104.664\t1\t0.0\tWaltz For Woody\t2005\t867167\nAR4G2AQ1187FB59D5B\t64.95014\t26.06739\tFinland\tIndica\t412.15955\t0.0\t9\t0.032\t-5.237\tVisions Of Tomorrow\t0.392008771471\tSOWZTSW12AB0189F13\t408.776\t145.007\t4\t0.0\tBeyond The Function\t0\t34535\nARU9Q5Q1187FB3D6EB\t34.05349\t-118.24532\tLos Angeles, CA\tBobby Hutcherson\t270.10567\t0.334\t0\t0.588\t-20.307\tBlue Movies\t0.266632605508\tSOVHLRK12A58A79E88\t258.74\t132.293\t4\t0.0\tTheme From M-A-S-H (1998 Digital Remaster)\t0\t4205\nARXVGI61187B9B64F8\t31.1689\t-100.07715\tTexas\tShorty Long;Art Lund;Mona Paulee;Susan Johnson\t104.6722\t0.114\t8\t0.07\t-25.124\tThe Most Happy Fella\tnan\tSOJJNXD12A58A77004\t104.672\t67.678\t1\t0.823\t...Carissima!\t0\t590280\nARTO6KU1187B99910C\tnan\tnan\t\tClaude François\t214.25587\t0.078\t2\t0.725\t-5.629\tAnthologie\tnan\tSODZMQP12AB01823DD\t203.616\t153.471\t1\t0.0\tFleur Sauvage\t1970\t508885\nARY8MOG1187B999006\tnan\tnan\tBurton Fork, KY\tBuell Kazee\t230.05995\t0.0\t11\t0.508\t-22.269\tBuell Kazee Sings and Plays\tnan\tSOVYPMI12AB0189B3C\t226.917\t57.076\t1\t0.811\tMy Christian Friends\t0\t50065\nARY8DE51187B993658\t34.16788\t-111.9307\tArizona\tBurning Sky\t155.74159\t0.392\t2\t1.0\t-27.174\tBlood of the Land\t0.340857094582\tSOUEUMH12AAF3B589E\t145.148\t111.826\t1\t0.723\tElk Child (World)\t0\t--\nARKR75V1187FB3D4D5\tnan\tnan\tNew Jersey\tMy Chemical Romance\t218.04363\t0.0\t4\t0.686\t-7.106\tThe Black Parade Is Dead!\t0.47872628848\tSOLOQDB12A58A7789C\t218.044\t110.397\t4\t0.545\tHouse Of Wolves [Live In Mexico]\t2008\t617883\nARKK3F81187FB56F2B\tnan\tnan\t\tValérie Leulliot\t357.77261\t7.065\t6\t0.071\t-20.412\tCaldeira\t0.331345124736\tSOGNTGA12A8C1401B6\t332.678\t80.011\t1\t0.172\tPyromane\t2007\t440790\nARTCYK21187B98DDC6\tnan\tnan\t\tThe Long Ryders\t318.27546\t0.0\t2\t0.511\t-10.657\tThree Minute Warnings:  The Long Ryders Live in New York City\tnan\tSOKLALK12AB0180A82\t313.673\t136.113\t4\t0.471\tLooking For Lewis & Clark\t1985\t327400\nARH8HFO1187FB5C993\t40.71455\t-74.00712\tNew York, NY\tShy Child\t444.55138\t0.067\t10\t0.774\t-5.013\tLiquid Love\t0.644093452427\tSOMCUVL12AC468ADCB\t437.301\t187.945\t4\t0.0\tCriss Cross\t2010\t963702\nARDYZYQ1269FB37267\tnan\tnan\t\tJozif\t509.07383\t0.0\t2\t0.658\t-10.453\tTiger Tiger\t0.304169503435\tSOGGYDJ12AC3DFB659\t506.7\t125.014\t4\t1.0\tTiger Tiger\t0\t216894\nAR0K52Y1187B9B69A6\t34.05349\t-118.24532\tLos Angeles, CA\tThe Lettermen\t176.95302\t0.519\t4\t0.297\t-16.299\tAll Time Greatest Hits\t0.0\tSOPOKQI12A6D4F69B7\t164.479\t98.708\t4\t0.809\tTraces/Memories (Medley) (Digitally Remastered 87)\t0\t791580\nARS7F8J1187B9AFE31\t1.36558\t103.82771\tSingapore\tVanessa-Mae\t95.34649\t0.212\t11\t0.509\t-26.798\tPlatinum Collection\t0.310791536012\tSOVGIBX12A6D4FBB74\t82.704\t73.125\t4\t0.0\tPartita No. 3 in E_ BWV1006 from 3 Sonatas and 3 Partitas BWV1001-06: Gigue\t0\t241413\nARNYZDD124549A40EA\tnan\tnan\t\tAsa Singh Mastana & Surinder Kaur\t207.67302\t3.541\t2\t0.274\t-16.311\tBest Of\tnan\tSOMOTTL12A8C137B4F\t201.567\t152.604\t4\t0.553\tSawan Da Mahina Aa Gya\t0\t331742\nARA3NYL1187FB55DA7\tnan\tnan\t\tSubway To Sally\t256.67873\t0.0\t4\t0.247\t-13.253\tAlbum 1994\t0.535106024898\tSOMAQHC12AB018B9A9\t248.883\t142.921\t4\t0.916\tTraum Vom Tod\t1994\t477976\nARROTQN1187B98FAF0\tnan\tnan\t\tCristina Pato - Mutenrohi\t252.78649\t0.915\t2\t0.628\t-4.683\tMisturados\t0.212045405484\tSOXVVEH12AC468887A\t243.537\t154.065\t4\t0.375\tCarmiña_ Carmela\t0\t435754\nARHTKEV1187B9B8890\tnan\tnan\t\tMartin Angor\t234.60526\t0.218\t9\t0.0\t-12.996\tMartin Angor\t0.511161070645\tSOVKJRN12A6310D9BF\t224.897\t114.994\t4\t0.129\tCorps caverneux\t0\t416952\nARSZDTJ11F43A69EBA\tnan\tnan\tLos Angeles, CA\tThe Monkees\t167.65342\t0.328\t7\t0.578\t-9.622\tThe Monkees [Deluxe Edition] [Digital Version]\t0.831970527276\tSOZBYZS12A6D4F96F4\t157.936\t97.697\t4\t0.223\tLast Train To Clarksville (2006 Remastered Original Stereo Version)\t0\t336147\nAR1I4XY1187B99A6E3\t52.54675\t5.53906\tBIG PINE KEY, Flevoland\tAmyth\t266.16118\t0.0\t5\t0.193\t-5.609\tThe World Is Ours\tnan\tSOGLTQB12AB0189D3C\t249.185\t115.04\t4\t1.0\tNever Gonna Let You Go (Album Version)\t0\t515237\nARCRHPH11F50C50936\tnan\tnan\t\tIrving Burgie\t188.05506\t0.0\t0\t0.152\t-12.706\tThe Father Of Modern Calypso\t0.0\tSOLGWPT12A8C133067\t180.181\t106.889\t4\t0.0\tGamblin'\t0\t776638\nARJTHAK11E8C26AF63\tnan\tnan\tHasselt BELGIUM\tDrive Like Maria\t229.14567\t2.235\t6\t0.341\t-6.673\tElmwood\t0.553767182052\tSOHKQYL12AB017C516\t225.083\t71.071\t4\t0.949\tTalk To Me\t2009\t611777\nARYZ85E1187B993C62\t44.64616\t-63.57392\tHalifax, Nova Scotia, Canada\tThe Heavy Blinkers\t227.00363\t0.27\t6\t0.095\t-15.769\tThe Night And I Are Still So Young\t0.382893364275\tSOMISNG12A58A7B30D\t214.163\t83.889\t4\t0.258\tGentle Strength\t2004\t--\nARROTHV11E2835C202\tnan\tnan\t\tEnglish Chamber Orchestra;Donald Fraser;José Luis Garcia\t74.50077\t0.485\t9\t0.097\t-23.995\tWorld Anthems\tnan\tSOIQXKB12A8C138FD8\t69.73\t92.161\t1\t0.458\tFINLAND & ESTONIA:  Maamme Laulu\t1992\t655981\nARWP3XJ1187B9A1F72\t39.95227\t-75.16237\tPhiladelphia, PA\tTHE THREE DEGREES\t222.09261\t0.548\t0\t0.838\t-8.535\tThe Sounds Of Philadelphia\tnan\tSODSZPB12A8C139A0D\t207.871\t115.084\t4\t1.0\tT.S.O.P. ( The Sound Of Philadelphia )\t0\t--\nARA0OEO1187B9950B0\tnan\tnan\t\tTrue West\t212.68853\t4.075\t11\t0.563\t-13.745\tTwo True\tnan\tSOARFJX12A6D4FAD37\t206.164\t150.291\t4\t1.0\tThrow Away The Key\t1984\t573702\nAR5PXY21187B9A5ACC\t39.95227\t-75.16237\tPhiladelphia, PA\tThe Orlons\t155.74159\t0.148\t1\t0.486\t-10.166\tCameo Parkway - The Best Of The Orlons (Original Hit Recordings)\t0.0\tSOPBVUF12A8C1444A1\t150.338\t100.419\t4\t1.0\tMr. Twenty One\t0\t646656\nARDVIOR1187B99BD69\tnan\tnan\tEngland\tBaker Gurvitz Army\t153.65179\t0.0\t11\t0.442\t-8.9\tLive In Derby '75\tnan\tSOSQNWA12A8C1349A5\t153.652\t124.039\t4\t1.0\tSunshine Of Your Life\t0\t631494\nARMT0T61187FB395F5\tnan\tnan\t\tUltrakurt\t548.51873\t0.125\t1\t0.253\t-12.493\tLa Morve Aux Trousses Ep\tnan\tSORFXDY12A8C1387D2\t512.853\t126.988\t4\t1.0\tBoushik Bojor\t0\t420226\nARVN9FZ1187FB393F1\tnan\tnan\tDundee, Scotland\tSnow Patrol\t445.90975\t6.432\t7\t0.491\t-10.672\tChocolate\tnan\tSOCRRJX12A6701D96A\t436.094\t163.721\t4\t0.678\tRun\t2003\t147092\n\n"
     ]
    }
   ],
   "source": [
    "# view a sample of the records\n",
    "with open(\"/dbfs/databricks-datasets/songs/data-001/part-00000\") as f:\n",
    "  x = ''.join(f.readlines())\n",
    "\n",
    "print(x)"
   ]
  }
 ],
 "metadata": {
  "application/vnd.databricks.v1+notebook": {
   "dashboards": [],
   "language": "python",
   "notebookMetadata": {
    "pythonIndentUnit": 4
   },
   "notebookName": "load data",
   "notebookOrigID": 3773610109737178,
   "widgets": {}
  }
 },
 "nbformat": 4,
 "nbformat_minor": 0
}
